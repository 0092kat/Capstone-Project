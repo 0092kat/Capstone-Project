{
 "cells": [
  {
   "cell_type": "markdown",
   "metadata": {
    "id": "_AhrXk3clJUN"
   },
   "source": [
    "## The VGG16 model development and fine tuning\n",
    "\n",
    "in this notebook we will load and add our layers to the base model of the pre-trained VGG16 model, and fine tune the following components of the model:\n",
    "1. **Optimizers** - We will use only 5 optimizers to see which one works best, namely; 1. `SGD`,2. `RMSprop`,3. `Adam`,4. `Adagrad`,5. `Adadelta`. the best optimizer will be used in the New model\n",
    "2. **Number of epochs** - We will also use only 4 epochs to choose the best performer namely; `1, 2, 5, 10`.\n",
    "3. **Batch size** - we will also use these batch sizes to choose the optimum batch size, namely; `8, 16`. \n",
    "4. **Dropout value** - we will then use these dropout values to choose the optimum dropout value, namely; `0.5, 0.6, 0.7, 0.8, 0.9`\n",
    "\n",
    "> **Section one:** we will create common function and also create our base model, with the following initial parameters: **Batch size** `8`, **Optimizer** `Adam`, **Number of epochs** `5`, \n",
    "\n",
    "# **Import libraries that we will use**"
   ]
  },
  {
   "cell_type": "code",
   "execution_count": null,
   "metadata": {
    "colab": {
     "base_uri": "https://localhost:8080/"
    },
    "id": "yDreG9NTlQ9a",
    "outputId": "c4adfe0f-9078-4e67-f5c4-4977f8c978b8"
   },
   "outputs": [
    {
     "name": "stdout",
     "output_type": "stream",
     "text": [
      "Mounted at /content/drive\n"
     ]
    }
   ],
   "source": [
    "from google.colab import drive\n",
    "drive.mount('/content/drive')"
   ]
  },
  {
   "cell_type": "code",
   "execution_count": null,
   "metadata": {
    "id": "kZ6pLmWClJUR"
   },
   "outputs": [],
   "source": [
    "import pandas as pd\n",
    "import numpy as np\n",
    "import os\n",
    "import tensorflow as tf\n",
    "import keras\n",
    "import cv2\n",
    "import random\n",
    "from keras_preprocessing.image import load_img\n",
    "from keras.preprocessing.image import img_to_array\n",
    "import matplotlib.pyplot as plt\n",
    "from tensorflow.keras.layers import Dense, GlobalAveragePooling2D\n",
    "from tensorflow.keras.applications.vgg16 import VGG16 \n",
    "from tensorflow.keras.preprocessing import image \n",
    "from tensorflow.keras.applications.vgg16 import preprocess_input \n",
    "from tensorflow.keras.preprocessing.image import ImageDataGenerator\n",
    "from tensorflow.keras.models import Model\n",
    "from tensorflow.keras.optimizers import Adam\n",
    "from keras.layers import Input\n",
    "from sklearn.metrics import confusion_matrix\n",
    "from tqdm import tqdm_notebook\n",
    "import time\n",
    "import tqdm.gui as tqdm\n",
    "import tqdm.notebook as tqdm"
   ]
  },
  {
   "cell_type": "markdown",
   "metadata": {
    "id": "AVS3DynBlJUS"
   },
   "source": [
    "# **Common functions**"
   ]
  },
  {
   "cell_type": "code",
   "execution_count": null,
   "metadata": {
    "id": "sj9-x7mZlJUS"
   },
   "outputs": [],
   "source": [
    "\n",
    "def get_data_generator(train_data_path, \\\n",
    "                       val_data_path, \\\n",
    "                       targetsize, \\\n",
    "                       classmode, \\\n",
    "                       batchsize):\n",
    "    \"\"\"\n",
    "    This function is a data generator function for train, validation\n",
    "    Inputs\n",
    "        train_data_path   : train data path for the dataset \n",
    "        val_data_path     : validation data path for the dataset\n",
    "        targetsize        : target size for the generator to resize all images to, (224,224)\n",
    "        classmode         : class mode, 'categorical'\n",
    "        batchsize         : batch size\n",
    "    Outputs\n",
    "        train_generator   : generated train data\n",
    "        val_generator   : generated train data\n",
    "    \n",
    "    \"\"\"\n",
    "    train_datagen=ImageDataGenerator(preprocessing_function=preprocess_input)\n",
    "    val_datagen = ImageDataGenerator(preprocessing_function=preprocess_input)\n",
    "\n",
    "    \n",
    "    train_generator=train_datagen.flow_from_directory(train_data_path, # this is where you specify the path to the main data folder\n",
    "                                                 target_size=targetsize,\n",
    "                                                 color_mode='rgb',\n",
    "                                                 batch_size=batchsize,\n",
    "                                                 class_mode=classmode,\n",
    "                                                 shuffle=True)\n",
    "    \n",
    "    val_generator=val_datagen.flow_from_directory(val_data_path, # this is where you specify the path to the main data folder\n",
    "                                                 target_size=targetsize,\n",
    "                                                 color_mode='rgb',\n",
    "                                                 batch_size=batchsize,\n",
    "                                                 class_mode=classmode,\n",
    "                                                 shuffle=True)\n",
    "    return train_generator,val_generator   \n",
    "\n",
    "\n",
    "\n",
    "def train_evaluate_the_model(train_generator, \\\n",
    "                            val_generator, \\\n",
    "                            optimizer, \\\n",
    "                            epochs, \\\n",
    "                            dropout_value, \\\n",
    "                            TheModel):\n",
    "    '''\n",
    "    train the model, do predictions, and do evaluation and return the accuracy of the model\n",
    "    Inputs\n",
    "        train_generator : generated train data\n",
    "        val_generator   : generated validation data\n",
    "        optimizer       : the optimizer method used to compile the model\n",
    "        epochs          : the epochs of the model use to fit the model\n",
    "        TheModel        : The pretrained model loaded,\n",
    "    Outputs\n",
    "        accuracy        : The accuracy of the model\n",
    "    '''\n",
    "    # load pretrained model and add layers on top of the model\n",
    "    x = TheModel.output\n",
    "    x = GlobalAveragePooling2D()(x)\n",
    "    x = Dense(1024,activation='relu')(x)\n",
    "    x = Dense(1024,activation='relu')(x)\n",
    "    x = Dense(512, activation='relu')(x)\n",
    "    x = tf.keras.layers.Dropout(dropout_value)(x)\n",
    "    preds = Dense(4,activation='softmax')(x)\n",
    "    model = Model(inputs = TheModel.input,outputs=preds)\n",
    "    \n",
    "    # freeze base layers for training\n",
    "    for layer in TheModel.layers:\n",
    "        layer.trainable = False\n",
    "    \n",
    "    # compile the model\n",
    "    model.compile(optimizer=optimizer,\n",
    "              loss='categorical_crossentropy',\n",
    "              metrics=['accuracy'])\n",
    "    step_size_train=train_generator.n//train_generator.batch_size\n",
    "    # fit the model\n",
    "    r = model.fit_generator(generator=train_generator,\n",
    "                        validation_data=val_generator,\n",
    "                        steps_per_epoch=step_size_train,\n",
    "                        epochs=epochs)\n",
    "    # valuate the model\n",
    "    scores = model.evaluate(val_generator)\n",
    "    accuracy = scores[1]*100\n",
    "    \n",
    "    return accuracy, model"
   ]
  },
  {
   "cell_type": "markdown",
   "metadata": {
    "id": "9x6HPB3qvhH0"
   },
   "source": [
    "## **Explore the preprocess_input function**\n",
    "\n",
    "## The preprocess_input function will be used to preprocess the images so that they can be ready to be fed into the models."
   ]
  },
  {
   "cell_type": "code",
   "execution_count": null,
   "metadata": {
    "id": "MqpjtF9Gn7nk"
   },
   "outputs": [],
   "source": [
    "Gli_images=os.listdir(\"/content/drive/MyDrive/Capstone-Project/Training/Glioma/\")\n",
    "\n",
    "imgs=[]\n",
    "for i in range(len(Gli_images)):\n",
    "    img=load_img(Gli_images[i]) \n",
    "    imgs.append(img)\n"
   ]
  },
  {
   "cell_type": "code",
   "execution_count": null,
   "metadata": {
    "colab": {
     "base_uri": "https://localhost:8080/"
    },
    "id": "nCkRZz0Xxccs",
    "outputId": "1a1bfb2f-4ed8-4a16-f3eb-998c72e17581"
   },
   "outputs": [
    {
     "name": "stdout",
     "output_type": "stream",
     "text": [
      "Maximum pixel value before preprocessing:  255.0\n"
     ]
    }
   ],
   "source": [
    "z=random.randint(1,len(imgs))\n",
    "im = img_to_array(imgs[z])\n",
    "print(\"Maximum pixel value before preprocessing: \",im.max())"
   ]
  },
  {
   "cell_type": "code",
   "execution_count": null,
   "metadata": {
    "colab": {
     "base_uri": "https://localhost:8080/"
    },
    "id": "CEAHsvSlyDPU",
    "outputId": "fa6efa6b-7d8e-4762-fdd2-dc067b79b8dd"
   },
   "outputs": [
    {
     "name": "stdout",
     "output_type": "stream",
     "text": [
      "Maxium pixel value after pre-processing : 151.061\n"
     ]
    }
   ],
   "source": [
    "im = preprocess_input(im)\n",
    "print(\"Maxium pixel value after pre-processing :\",im.max())"
   ]
  },
  {
   "cell_type": "code",
   "execution_count": null,
   "metadata": {
    "colab": {
     "base_uri": "https://localhost:8080/",
     "height": 251
    },
    "id": "OAsEzoatoUcv",
    "outputId": "5c64e468-f9c3-4f3b-a62f-330849251795"
   },
   "outputs": [
    {
     "name": "stderr",
     "output_type": "stream",
     "text": [
      "Clipping input data to the valid range for imshow with RGB data ([0..1] for floats or [0..255] for integers).\n"
     ]
    },
    {
     "data": {
      "text/plain": [
       "Text(0.5, 1.0, 'Preprocessed Image')"
      ]
     },
     "execution_count": 41,
     "metadata": {},
     "output_type": "execute_result"
    },
    {
     "data": {
      "image/png": "[encoded data removed]",
      "text/plain": [
       "<Figure size 432x288 with 2 Axes>"
      ]
     },
     "metadata": {
      "needs_background": "light"
     },
     "output_type": "display_data"
    }
   ],
   "source": [
    "z=random.randint(1,len(imgs))\n",
    "im = img_to_array(imgs[z])\n",
    "im = np.expand_dims(im, axis=0)\n",
    "im = preprocess_input(im)\n",
    "\n",
    "plt.subplot(1,2,1)\n",
    "plt.imshow(imgs[z])\n",
    "plt.title(\"Original Image\")\n",
    "        \n",
    "        \n",
    "plt.subplot(1,2,2)\n",
    "im=np.reshape(im,(im.shape[1],im.shape[2],im.shape[3]))\n",
    "plt.imshow(im)\n",
    "plt.title(\"Preprocessed Image\")"
   ]
  },
  {
   "cell_type": "markdown",
   "metadata": {
    "id": "m05ZMo-9lJUU"
   },
   "source": [
    "# **Load and generate data**"
   ]
  },
  {
   "cell_type": "code",
   "execution_count": null,
   "metadata": {
    "id": "B_RhpiZTlJUU",
    "outputId": "7d660e76-f838-4a29-b8de-2163b6991efe"
   },
   "outputs": [
    {
     "name": "stdout",
     "output_type": "stream",
     "text": [
      "Found 2870 images belonging to 4 classes.\n",
      "Found 2870 images belonging to 4 classes.\n",
      "Found 394 images belonging to 4 classes.\n"
     ]
    }
   ],
   "source": [
    "train_datagen=ImageDataGenerator(preprocessing_function=preprocess_input) #included in our dependencies\n",
    "val_datagen = ImageDataGenerator(preprocessing_function=preprocess_input)\n",
    "\n",
    "'''\n",
    "Initial and constant parameters for the model\n",
    "initial parameters\n",
    "       batch_size    : the initial batch size we will create our base model with\n",
    "Constant parameters\n",
    "       target_size   : Constant image target size for the whole notebook which is (224,224)\n",
    "       class_mode    : class mode we will use for the whole notebook, which is 'categorical'\n",
    "'''\n",
    "# constant parameters\n",
    "targetsize_constant = (224,224)\n",
    "classmode_constant = 'categorical'\n",
    "\n",
    "# initial parameters\n",
    "batchsize_initial = 8\n",
    "epochs_initial = 4\n",
    "dropout_value_initial = 0.5\n",
    "optimizer_initial = 'Adam'\n",
    "\n",
    "# Data paths\n",
    "train_dataset_path = 'Dataset/Training/'\n",
    "validation_dataset_path = 'Dataset/Validation/'\n",
    "\n",
    "\n",
    "\n",
    "train_generator_initial = train_datagen.flow_from_directory(train_dataset_path, # this is where you specify the path to the main data folder\n",
    "                                                 target_size=targetsize_constant,\n",
    "                                                 color_mode='rgb',\n",
    "                                                 batch_size=batchsize_initial,\n",
    "                                                 class_mode=classmode_constant,\n",
    "                                                 shuffle=True)\n",
    "val_generator_initial = val_datagen.flow_from_directory(validation_dataset_path, # this is where you specify the path to the main data folder\n",
    "                                                 target_size=targetsize_constant,\n",
    "                                                 color_mode='rgb',\n",
    "                                                 batch_size=batchsize_initial,\n",
    "                                                 class_mode=classmode_constant,\n",
    "                                                 shuffle=True)\n"
   ]
  },
  {
   "cell_type": "code",
   "execution_count": null,
   "metadata": {
    "id": "2RdoIUTVlJUV",
    "outputId": "ee397b79-aa08-4875-be7c-a866d36ff190"
   },
   "outputs": [
    {
     "data": {
      "text/plain": [
       "{'glioma_tumor': 0, 'meningioma_tumor': 1, 'no_tumor': 2, 'pituitary_tumor': 3}"
      ]
     },
     "execution_count": 3,
     "metadata": {},
     "output_type": "execute_result"
    }
   ],
   "source": [
    "# display classes found in the data\n",
    "train_generator_initial.class_indices"
   ]
  },
  {
   "cell_type": "markdown",
   "metadata": {
    "id": "UII7FOi2lJUW"
   },
   "source": [
    "#### Import the VGG16 base model"
   ]
  },
  {
   "cell_type": "code",
   "execution_count": null,
   "metadata": {
    "id": "SHlUCzZ9lJUW"
   },
   "outputs": [],
   "source": [
    "image_size = [224,224] # choose image size\n",
    "# import the base model\n",
    "vgg = VGG16(input_shape= image_size+[3],weights='imagenet',include_top=False)\n"
   ]
  },
  {
   "cell_type": "markdown",
   "metadata": {
    "id": "Xe43o0m4lJUX"
   },
   "source": [
    "# **Add layers on top of the base model**"
   ]
  },
  {
   "cell_type": "code",
   "execution_count": null,
   "metadata": {
    "id": "tzpwp9e4lJUX"
   },
   "outputs": [],
   "source": [
    "x = vgg.output\n",
    "x = GlobalAveragePooling2D()(x)\n",
    "x = Dense(1024,activation='relu')(x)\n",
    "x = Dense(1024,activation='relu')(x)\n",
    "x = Dense(512, activation='relu')(x)\n",
    "preds = Dense(4,activation='softmax')(x)\n",
    "model = Model(inputs = vgg.input,outputs=preds)"
   ]
  },
  {
   "cell_type": "code",
   "execution_count": null,
   "metadata": {
    "id": "kp_FTdaTlJUY"
   },
   "outputs": [],
   "source": [
    "# freeze base layers for training\n",
    "for layer in vgg.layers:\n",
    "    layer.trainable = False"
   ]
  },
  {
   "cell_type": "markdown",
   "metadata": {
    "id": "-5eIdLQ3lJUY"
   },
   "source": [
    "# **Compile the model**"
   ]
  },
  {
   "cell_type": "code",
   "execution_count": null,
   "metadata": {
    "id": "sZPxzF85lJUZ"
   },
   "outputs": [],
   "source": [
    "# initial optimizer\n",
    "optimizer_initial = 'Adam'\n",
    "\n",
    "# compile the model\n",
    "model.compile(optimizer=optimizer_initial,\n",
    "              loss='categorical_crossentropy',\n",
    "              metrics=['accuracy'])"
   ]
  },
  {
   "cell_type": "markdown",
   "metadata": {
    "id": "lHjqbnpClJUZ"
   },
   "source": [
    "# **Fit the model**"
   ]
  },
  {
   "cell_type": "code",
   "execution_count": null,
   "metadata": {
    "id": "QGWfL-4SlJUZ",
    "outputId": "10fa2a59-f648-4258-f73a-82a97e96ba71"
   },
   "outputs": [
    {
     "name": "stderr",
     "output_type": "stream",
     "text": [
      "C:\\Users\\Student\\anaconda_3\\lib\\site-packages\\tensorflow\\python\\keras\\engine\\training.py:1940: UserWarning: `Model.fit_generator` is deprecated and will be removed in a future version. Please use `Model.fit`, which supports generators.\n",
      "  warnings.warn('`Model.fit_generator` is deprecated and '\n"
     ]
    },
    {
     "name": "stdout",
     "output_type": "stream",
     "text": [
      "Epoch 1/5\n",
      "358/358 [==============================] - 932s 3s/step - loss: 0.7073 - accuracy: 0.7491 - val_loss: 0.4140 - val_accuracy: 0.8334\n",
      "Epoch 2/5\n",
      "358/358 [==============================] - 941s 3s/step - loss: 0.3818 - accuracy: 0.8557 - val_loss: 0.2514 - val_accuracy: 0.9056\n",
      "Epoch 3/5\n",
      "358/358 [==============================] - 949s 3s/step - loss: 0.2920 - accuracy: 0.8945 - val_loss: 0.2006 - val_accuracy: 0.9362\n",
      "Epoch 4/5\n",
      "358/358 [==============================] - 957s 3s/step - loss: 0.2659 - accuracy: 0.9001 - val_loss: 0.1971 - val_accuracy: 0.9373\n",
      "Epoch 5/5\n",
      "358/358 [==============================] - 968s 3s/step - loss: 0.2071 - accuracy: 0.9186 - val_loss: 0.2009 - val_accuracy: 0.9289\n"
     ]
    }
   ],
   "source": [
    "# initial parameters\n",
    "epochs_initial = 5\n",
    "step_size_train_initial=train_generator_initial.n//train_generator_initial.batch_size # computing the steps size per epoch\n",
    "\n",
    "tic = time.time()\n",
    "# fit the model\n",
    "r = model.fit_generator(generator=train_generator_initial,\n",
    "                        validation_data=val_generator_initial,\n",
    "                        steps_per_epoch=step_size_train_initial,\n",
    "                        epochs=epochs_initial)\n",
    "\n",
    "toc = time.time()\n",
    "print(\"Minutes taken = \" + str((toc-tic)/60.0))"
   ]
  },
  {
   "cell_type": "markdown",
   "metadata": {
    "id": "Gnf2x8brlJUZ"
   },
   "source": [
    "# **Evaluate the model**"
   ]
  },
  {
   "cell_type": "code",
   "execution_count": null,
   "metadata": {
    "id": "QVkHuQGmlJUa",
    "outputId": "2b257463-9ea7-42ae-b74b-04cafcd756e0"
   },
   "outputs": [
    {
     "name": "stdout",
     "output_type": "stream",
     "text": [
      "359/359 [==============================] - 471s 1s/step - loss: 0.2009 - accuracy: 0.9289\n",
      "evaluate accuracy: 92.89%\n"
     ]
    }
   ],
   "source": [
    "# evaluation on validation data\n",
    "scores = model.evaluate(val_generator_initial)\n",
    "print(\"%s%s: %.2f%%\" % (\"evaluate \",model.metrics_names[1], scores[1]*100))\n",
    "\n",
    "#scores = model.evaluate_generator(val_generator)\n",
    "#print(\"%s%s: %.2f%%\" % (\"evaluate_generator \",model.metrics_names[1], scores[1]*100))"
   ]
  },
  {
   "cell_type": "markdown",
   "metadata": {
    "id": "mSAHyDLblJUa"
   },
   "source": [
    "# **Section two:** We will start fine tunning\n",
    "## **Tunning optimizers of the model**"
   ]
  },
  {
   "cell_type": "code",
   "execution_count": null,
   "metadata": {
    "colab": {
     "referenced_widgets": [
      "fe70544fe08a45af9046617e96f3479b"
     ]
    },
    "id": "fbYgb83elJUa",
    "outputId": "006a6911-2935-4150-e2c8-19e73d1aa9b5"
   },
   "outputs": [
    {
     "data": {
      "application/vnd.jupyter.widget-view+json": {
       "model_id": "fe70544fe08a45af9046617e96f3479b",
       "version_major": 2,
       "version_minor": 0
      },
      "text/plain": [
       "HBox(children=(HTML(value=''), FloatProgress(value=0.0, max=5.0), HTML(value='')))"
      ]
     },
     "metadata": {},
     "output_type": "display_data"
    },
    {
     "name": "stdout",
     "output_type": "stream",
     "text": [
      "Epoch 1/5\n",
      "358/358 [==============================] - 938s 3s/step - loss: 0.7257 - accuracy: 0.7530 - val_loss: 0.3804 - val_accuracy: 0.8460\n",
      "Epoch 2/5\n",
      "358/358 [==============================] - 933s 3s/step - loss: 0.3693 - accuracy: 0.8592 - val_loss: 0.3186 - val_accuracy: 0.8774\n",
      "Epoch 3/5\n",
      "358/358 [==============================] - 932s 3s/step - loss: 0.3001 - accuracy: 0.8823 - val_loss: 0.1630 - val_accuracy: 0.9373\n",
      "Epoch 4/5\n",
      "358/358 [==============================] - 932s 3s/step - loss: 0.2670 - accuracy: 0.9018 - val_loss: 0.1885 - val_accuracy: 0.9376\n",
      "Epoch 5/5\n",
      "358/358 [==============================] - 932s 3s/step - loss: 0.1999 - accuracy: 0.9217 - val_loss: 0.1324 - val_accuracy: 0.9505\n",
      "359/359 [==============================] - 467s 1s/step - loss: 0.1324 - accuracy: 0.9505\n",
      "Epoch 1/5\n",
      "358/358 [==============================] - 938s 3s/step - loss: 0.6824 - accuracy: 0.7568 - val_loss: 0.4280 - val_accuracy: 0.8073\n",
      "Epoch 2/5\n",
      "358/358 [==============================] - 937s 3s/step - loss: 0.3185 - accuracy: 0.8756 - val_loss: 0.2820 - val_accuracy: 0.8815\n",
      "Epoch 3/5\n",
      "358/358 [==============================] - 936s 3s/step - loss: 0.2280 - accuracy: 0.9175 - val_loss: 0.2479 - val_accuracy: 0.8958\n",
      "Epoch 4/5\n",
      "358/358 [==============================] - 935s 3s/step - loss: 0.1511 - accuracy: 0.9441 - val_loss: 0.3753 - val_accuracy: 0.8557\n",
      "Epoch 5/5\n",
      "358/358 [==============================] - 937s 3s/step - loss: 0.1181 - accuracy: 0.9532 - val_loss: 0.0713 - val_accuracy: 0.9812\n",
      "359/359 [==============================] - 468s 1s/step - loss: 0.0713 - accuracy: 0.9812\n",
      "Epoch 1/5\n",
      "358/358 [==============================] - 942s 3s/step - loss: 1.0042 - accuracy: 0.7034 - val_loss: 0.3995 - val_accuracy: 0.8251\n",
      "Epoch 2/5\n",
      "358/358 [==============================] - 942s 3s/step - loss: 0.5534 - accuracy: 0.8211 - val_loss: 0.4177 - val_accuracy: 0.8488\n",
      "Epoch 3/5\n",
      "358/358 [==============================] - 943s 3s/step - loss: 0.4907 - accuracy: 0.8581 - val_loss: 0.2933 - val_accuracy: 0.8930\n",
      "Epoch 4/5\n",
      "358/358 [==============================] - 942s 3s/step - loss: 0.4174 - accuracy: 0.8637 - val_loss: 0.3442 - val_accuracy: 0.8798\n",
      "Epoch 5/5\n",
      "358/358 [==============================] - 943s 3s/step - loss: 0.4177 - accuracy: 0.8819 - val_loss: 0.1657 - val_accuracy: 0.9394\n",
      "359/359 [==============================] - 470s 1s/step - loss: 0.1657 - accuracy: 0.9394\n",
      "Epoch 1/5\n",
      "358/358 [==============================] - 940s 3s/step - loss: 0.6181 - accuracy: 0.7655 - val_loss: 0.2996 - val_accuracy: 0.9063\n",
      "Epoch 2/5\n",
      "358/358 [==============================] - 939s 3s/step - loss: 0.3131 - accuracy: 0.8864 - val_loss: 0.2158 - val_accuracy: 0.9282\n",
      "Epoch 3/5\n",
      "358/358 [==============================] - 942s 3s/step - loss: 0.2288 - accuracy: 0.9224 - val_loss: 0.1662 - val_accuracy: 0.9551\n",
      "Epoch 4/5\n",
      "358/358 [==============================] - 944s 3s/step - loss: 0.1759 - accuracy: 0.9462 - val_loss: 0.1386 - val_accuracy: 0.9617\n",
      "Epoch 5/5\n",
      "358/358 [==============================] - 937s 3s/step - loss: 0.1452 - accuracy: 0.9546 - val_loss: 0.1093 - val_accuracy: 0.9774\n",
      "359/359 [==============================] - 470s 1s/step - loss: 0.1093 - accuracy: 0.9774\n",
      "Epoch 1/5\n",
      "358/358 [==============================] - 941s 3s/step - loss: 1.3341 - accuracy: 0.4050 - val_loss: 1.1604 - val_accuracy: 0.5073\n",
      "Epoch 2/5\n",
      "358/358 [==============================] - 939s 3s/step - loss: 1.0695 - accuracy: 0.5709 - val_loss: 0.9767 - val_accuracy: 0.6268\n",
      "Epoch 3/5\n",
      "358/358 [==============================] - 941s 3s/step - loss: 0.9166 - accuracy: 0.6565 - val_loss: 0.8528 - val_accuracy: 0.6990\n",
      "Epoch 4/5\n",
      "358/358 [==============================] - 941s 3s/step - loss: 0.8117 - accuracy: 0.7180 - val_loss: 0.7623 - val_accuracy: 0.7411\n",
      "Epoch 5/5\n",
      "358/358 [==============================] - 939s 3s/step - loss: 0.7334 - accuracy: 0.7505 - val_loss: 0.6952 - val_accuracy: 0.7620\n",
      "359/359 [==============================] - 471s 1s/step - loss: 0.6952 - accuracy: 0.7620\n",
      "\n",
      "Minutes taken = 430.23548024495443\n"
     ]
    },
    {
     "data": {
      "text/html": [
       "<div>\n",
       "<style scoped>\n",
       "    .dataframe tbody tr th:only-of-type {\n",
       "        vertical-align: middle;\n",
       "    }\n",
       "\n",
       "    .dataframe tbody tr th {\n",
       "        vertical-align: top;\n",
       "    }\n",
       "\n",
       "    .dataframe thead th {\n",
       "        text-align: right;\n",
       "    }\n",
       "</style>\n",
       "<table border=\"1\" class=\"dataframe\">\n",
       "  <thead>\n",
       "    <tr style=\"text-align: right;\">\n",
       "      <th></th>\n",
       "      <th>optimizer</th>\n",
       "      <th>accuracy</th>\n",
       "    </tr>\n",
       "  </thead>\n",
       "  <tbody>\n",
       "    <tr>\n",
       "      <th>0</th>\n",
       "      <td>Adam</td>\n",
       "      <td>95.052266</td>\n",
       "    </tr>\n",
       "    <tr>\n",
       "      <th>1</th>\n",
       "      <td>SGD</td>\n",
       "      <td>98.118466</td>\n",
       "    </tr>\n",
       "    <tr>\n",
       "      <th>2</th>\n",
       "      <td>RMSprop</td>\n",
       "      <td>93.937284</td>\n",
       "    </tr>\n",
       "    <tr>\n",
       "      <th>3</th>\n",
       "      <td>Adagrad</td>\n",
       "      <td>97.735190</td>\n",
       "    </tr>\n",
       "    <tr>\n",
       "      <th>4</th>\n",
       "      <td>Adadelta</td>\n",
       "      <td>76.202089</td>\n",
       "    </tr>\n",
       "  </tbody>\n",
       "</table>\n",
       "</div>"
      ],
      "text/plain": [
       "  optimizer   accuracy\n",
       "0      Adam  95.052266\n",
       "1       SGD  98.118466\n",
       "2   RMSprop  93.937284\n",
       "3   Adagrad  97.735190\n",
       "4  Adadelta  76.202089"
      ]
     },
     "execution_count": 12,
     "metadata": {},
     "output_type": "execute_result"
    }
   ],
   "source": [
    "TheBaseModel = VGG16(input_shape= image_size+[3],weights='imagenet',include_top=False) # load a clean base model\n",
    "\n",
    "param_label = 'optimizer'\n",
    "param_list = ['Adam', 'SGD', 'RMSprop', 'Adagrad', 'Adadelta'] # ['Adam', 'SGD', 'RMSprop', 'Adagrad', 'Adadelta']\n",
    "\n",
    "accuracy_table = {param_label: [], 'accuracy': []}\n",
    "tic = time.time()\n",
    "for param in tqdm.tqdm_notebook(param_list):\n",
    "    # Train, predict and evaluate model\n",
    "    accuracy, _ = train_evaluate_the_model(train_generator_initial,val_generator_initial,param,epochs_initial,TheBaseModel) # replace epochs with 'epochs_initial'\n",
    "    \n",
    "    # Collect results\n",
    "    accuracy_table[param_label].append(param)\n",
    "    accuracy_table['accuracy'].append(accuracy)\n",
    "    \n",
    "accuracy_table = pd.DataFrame(accuracy_table) # convert the table to a dataframe\n",
    "toc = time.time()\n",
    "print(\"Minutes taken = \" + str((toc-tic)/60.0))\n",
    "accuracy_table # display the resullts"
   ]
  },
  {
   "cell_type": "code",
   "execution_count": null,
   "metadata": {
    "id": "jBiKTM5VlJUb",
    "outputId": "20c49e11-4a39-4477-c8bc-4ab7ceb3dfc2",
    "scrolled": true
   },
   "outputs": [
    {
     "data": {
      "text/plain": [
       "Text(0, 0.5, 'accuracy)')"
      ]
     },
     "execution_count": 13,
     "metadata": {},
     "output_type": "execute_result"
    },
    {
     "data": {
      "image/png": "[encoded data removed]",
      "text/plain": [
       "<Figure size 720x576 with 1 Axes>"
      ]
     },
     "metadata": {},
     "output_type": "display_data"
    }
   ],
   "source": [
    "from pylab import rcParams\n",
    "\n",
    "# plot results\n",
    "rcParams['figure.figsize'] = 10,8 # width 10, height 8\n",
    "\n",
    "ax = accuracy_table.plot(x='optimizer', y='accuracy',style='bx-', grid=True)\n",
    "#ax.set_xticklabels(param_list) # gave me an error when used\n",
    "ax.set_xlabel(\"Optimizer\")\n",
    "ax.set_ylabel(\"accuracy)\")"
   ]
  },
  {
   "cell_type": "code",
   "execution_count": null,
   "metadata": {
    "id": "RYgT_ArulJUb",
    "outputId": "3a1361c1-0b83-423b-da80-a60236cfa2b5"
   },
   "outputs": [
    {
     "name": "stdout",
     "output_type": "stream",
     "text": [
      "max Accuracy = 98.118\n",
      "optimum optimizer = SGD\n"
     ]
    }
   ],
   "source": [
    "# Get optimum value for param\n",
    "temp = accuracy_table[accuracy_table['accuracy'] == accuracy_table['accuracy'].max()]\n",
    "optimizer_opt = temp[param_label].values[0]\n",
    "print(\"max Accuracy = %0.3f\" % accuracy_table['accuracy'].max())\n",
    "print(\"optimum \" + param_label + \" = \" + str(optimizer_opt))"
   ]
  },
  {
   "cell_type": "markdown",
   "metadata": {
    "id": "F1FF3-0UlJUb"
   },
   "source": [
    "# **Tuning batch size and epochs of the model**"
   ]
  },
  {
   "cell_type": "code",
   "execution_count": null,
   "metadata": {
    "colab": {
     "referenced_widgets": [
      "ed5cf7921cc14861ad950dce28746219",
      "675da978549c49588f0f2e14843a4fa6",
      "8d3af7b3c60a4e2b93a4c0a0a080a515",
      "21bc45beaee04e61961b7c286f293f35",
      "a696e75f1a0c4936bc9a2c2e4825ac95"
     ]
    },
    "id": "5HnTCbS3lJUc",
    "outputId": "d13fe4a9-42ba-413f-ea31-9158ed2798d3"
   },
   "outputs": [
    {
     "data": {
      "application/vnd.jupyter.widget-view+json": {
       "model_id": "ed5cf7921cc14861ad950dce28746219",
       "version_major": 2,
       "version_minor": 0
      },
      "text/plain": [
       "HBox(children=(HTML(value=''), FloatProgress(value=0.0, max=4.0), HTML(value='')))"
      ]
     },
     "metadata": {},
     "output_type": "display_data"
    },
    {
     "name": "stderr",
     "output_type": "stream",
     "text": [
      "<ipython-input-15-d9397eb64c7a>:12: TqdmDeprecationWarning: This function will be removed in tqdm==5.0.0\n",
      "Please use `tqdm.notebook.tqdm` instead of `tqdm.tqdm_notebook`\n",
      "  for param2 in tqdm_notebook(param2_list):\n"
     ]
    },
    {
     "data": {
      "application/vnd.jupyter.widget-view+json": {
       "model_id": "675da978549c49588f0f2e14843a4fa6",
       "version_major": 2,
       "version_minor": 0
      },
      "text/plain": [
       "HBox(children=(HTML(value=''), FloatProgress(value=0.0, max=2.0), HTML(value='')))"
      ]
     },
     "metadata": {},
     "output_type": "display_data"
    },
    {
     "name": "stdout",
     "output_type": "stream",
     "text": [
      "Found 2870 images belonging to 4 classes.\n",
      "Found 2870 images belonging to 4 classes.\n",
      "Found 394 images belonging to 4 classes.\n"
     ]
    },
    {
     "name": "stderr",
     "output_type": "stream",
     "text": [
      "C:\\Users\\Student\\anaconda_3\\lib\\site-packages\\tensorflow\\python\\keras\\engine\\training.py:1940: UserWarning: `Model.fit_generator` is deprecated and will be removed in a future version. Please use `Model.fit`, which supports generators.\n",
      "  warnings.warn('`Model.fit_generator` is deprecated and '\n"
     ]
    },
    {
     "name": "stdout",
     "output_type": "stream",
     "text": [
      "358/358 [==============================] - 947s 3s/step - loss: 0.7642 - accuracy: 0.7537 - val_loss: 0.3878 - val_accuracy: 0.8613\n",
      "359/359 [==============================] - 472s 1s/step - loss: 0.3878 - accuracy: 0.8613\n",
      "Found 2870 images belonging to 4 classes.\n",
      "Found 2870 images belonging to 4 classes.\n",
      "Found 394 images belonging to 4 classes.\n",
      "179/179 [==============================] - 937s 5s/step - loss: 0.8535 - accuracy: 0.7495 - val_loss: 0.3191 - val_accuracy: 0.8847\n",
      "180/180 [==============================] - 469s 3s/step - loss: 0.3191 - accuracy: 0.8847\n",
      "\n"
     ]
    },
    {
     "data": {
      "application/vnd.jupyter.widget-view+json": {
       "model_id": "8d3af7b3c60a4e2b93a4c0a0a080a515",
       "version_major": 2,
       "version_minor": 0
      },
      "text/plain": [
       "HBox(children=(HTML(value=''), FloatProgress(value=0.0, max=2.0), HTML(value='')))"
      ]
     },
     "metadata": {},
     "output_type": "display_data"
    },
    {
     "name": "stdout",
     "output_type": "stream",
     "text": [
      "Found 2870 images belonging to 4 classes.\n",
      "Found 2870 images belonging to 4 classes.\n",
      "Found 394 images belonging to 4 classes.\n",
      "Epoch 1/2\n",
      "358/358 [==============================] - 946s 3s/step - loss: 0.7618 - accuracy: 0.7338 - val_loss: 0.3760 - val_accuracy: 0.8707\n",
      "Epoch 2/2\n",
      "358/358 [==============================] - 945s 3s/step - loss: 0.3675 - accuracy: 0.8620 - val_loss: 0.2769 - val_accuracy: 0.9014\n",
      "359/359 [==============================] - 474s 1s/step - loss: 0.2769 - accuracy: 0.9014\n",
      "Found 2870 images belonging to 4 classes.\n",
      "Found 2870 images belonging to 4 classes.\n",
      "Found 394 images belonging to 4 classes.\n",
      "Epoch 1/2\n",
      "179/179 [==============================] - 944s 5s/step - loss: 0.9406 - accuracy: 0.7376 - val_loss: 0.2830 - val_accuracy: 0.8969\n",
      "Epoch 2/2\n",
      "179/179 [==============================] - 944s 5s/step - loss: 0.3432 - accuracy: 0.8732 - val_loss: 0.3030 - val_accuracy: 0.8850\n",
      "180/180 [==============================] - 473s 3s/step - loss: 0.3030 - accuracy: 0.8850\n",
      "\n"
     ]
    },
    {
     "data": {
      "application/vnd.jupyter.widget-view+json": {
       "model_id": "21bc45beaee04e61961b7c286f293f35",
       "version_major": 2,
       "version_minor": 0
      },
      "text/plain": [
       "HBox(children=(HTML(value=''), FloatProgress(value=0.0, max=2.0), HTML(value='')))"
      ]
     },
     "metadata": {},
     "output_type": "display_data"
    },
    {
     "name": "stdout",
     "output_type": "stream",
     "text": [
      "Found 2870 images belonging to 4 classes.\n",
      "Found 2870 images belonging to 4 classes.\n",
      "Found 394 images belonging to 4 classes.\n",
      "Epoch 1/5\n",
      "358/358 [==============================] - 950s 3s/step - loss: 0.7569 - accuracy: 0.7481 - val_loss: 0.2794 - val_accuracy: 0.9017\n",
      "Epoch 2/5\n",
      "358/358 [==============================] - 949s 3s/step - loss: 0.3460 - accuracy: 0.8711 - val_loss: 0.2920 - val_accuracy: 0.8997\n",
      "Epoch 3/5\n",
      "358/358 [==============================] - 949s 3s/step - loss: 0.2844 - accuracy: 0.9008 - val_loss: 0.2848 - val_accuracy: 0.8704\n",
      "Epoch 4/5\n",
      "358/358 [==============================] - 948s 3s/step - loss: 0.2190 - accuracy: 0.9228 - val_loss: 0.1450 - val_accuracy: 0.9432\n",
      "Epoch 5/5\n",
      "358/358 [==============================] - 948s 3s/step - loss: 0.2176 - accuracy: 0.9203 - val_loss: 0.1211 - val_accuracy: 0.9669\n",
      "359/359 [==============================] - 475s 1s/step - loss: 0.1211 - accuracy: 0.9669\n",
      "Found 2870 images belonging to 4 classes.\n",
      "Found 2870 images belonging to 4 classes.\n",
      "Found 394 images belonging to 4 classes.\n",
      "Epoch 1/5\n",
      "179/179 [==============================] - 939s 5s/step - loss: 0.8689 - accuracy: 0.7446 - val_loss: 0.4010 - val_accuracy: 0.8446\n",
      "Epoch 2/5\n",
      "179/179 [==============================] - 937s 5s/step - loss: 0.3376 - accuracy: 0.8728 - val_loss: 0.2809 - val_accuracy: 0.8899\n",
      "Epoch 3/5\n",
      "179/179 [==============================] - 939s 5s/step - loss: 0.2615 - accuracy: 0.9036 - val_loss: 0.1840 - val_accuracy: 0.9331\n",
      "Epoch 4/5\n",
      "179/179 [==============================] - 936s 5s/step - loss: 0.2120 - accuracy: 0.9187 - val_loss: 0.1757 - val_accuracy: 0.9436\n",
      "Epoch 5/5\n",
      "179/179 [==============================] - 936s 5s/step - loss: 0.1796 - accuracy: 0.9359 - val_loss: 0.1008 - val_accuracy: 0.9648\n",
      "180/180 [==============================] - 469s 3s/step - loss: 0.1008 - accuracy: 0.9648\n",
      "\n"
     ]
    },
    {
     "data": {
      "application/vnd.jupyter.widget-view+json": {
       "model_id": "a696e75f1a0c4936bc9a2c2e4825ac95",
       "version_major": 2,
       "version_minor": 0
      },
      "text/plain": [
       "HBox(children=(HTML(value=''), FloatProgress(value=0.0, max=2.0), HTML(value='')))"
      ]
     },
     "metadata": {},
     "output_type": "display_data"
    },
    {
     "name": "stdout",
     "output_type": "stream",
     "text": [
      "Found 2870 images belonging to 4 classes.\n",
      "Found 2870 images belonging to 4 classes.\n",
      "Found 394 images belonging to 4 classes.\n",
      "Epoch 1/10\n",
      "358/358 [==============================] - 957s 3s/step - loss: 0.7263 - accuracy: 0.7582 - val_loss: 0.3282 - val_accuracy: 0.8686\n",
      "Epoch 2/10\n",
      "358/358 [==============================] - 957s 3s/step - loss: 0.3385 - accuracy: 0.8679 - val_loss: 0.2816 - val_accuracy: 0.8962\n",
      "Epoch 3/10\n",
      "358/358 [==============================] - 958s 3s/step - loss: 0.2682 - accuracy: 0.8920 - val_loss: 0.3231 - val_accuracy: 0.8760\n",
      "Epoch 4/10\n",
      "358/358 [==============================] - 957s 3s/step - loss: 0.2114 - accuracy: 0.9186 - val_loss: 0.1708 - val_accuracy: 0.9314\n",
      "Epoch 5/10\n",
      "358/358 [==============================] - 969s 3s/step - loss: 0.2160 - accuracy: 0.9252 - val_loss: 0.1075 - val_accuracy: 0.9648\n",
      "Epoch 6/10\n",
      "358/358 [==============================] - 958s 3s/step - loss: 0.1790 - accuracy: 0.9343 - val_loss: 0.1111 - val_accuracy: 0.9564\n",
      "Epoch 7/10\n",
      "358/358 [==============================] - 958s 3s/step - loss: 0.1517 - accuracy: 0.9476 - val_loss: 0.0898 - val_accuracy: 0.9714\n",
      "Epoch 8/10\n",
      "358/358 [==============================] - 979s 3s/step - loss: 0.1424 - accuracy: 0.9532 - val_loss: 0.1477 - val_accuracy: 0.9502\n",
      "Epoch 9/10\n",
      "358/358 [==============================] - 985s 3s/step - loss: 0.1111 - accuracy: 0.9584 - val_loss: 0.1283 - val_accuracy: 0.9505\n",
      "Epoch 10/10\n",
      "358/358 [==============================] - 957s 3s/step - loss: 0.0966 - accuracy: 0.9644 - val_loss: 0.0995 - val_accuracy: 0.9624\n",
      "359/359 [==============================] - 480s 1s/step - loss: 0.0995 - accuracy: 0.9624\n",
      "Found 2870 images belonging to 4 classes.\n",
      "Found 2870 images belonging to 4 classes.\n",
      "Found 394 images belonging to 4 classes.\n",
      "Epoch 1/10\n",
      "179/179 [==============================] - 946s 5s/step - loss: 0.8054 - accuracy: 0.7582 - val_loss: 0.2741 - val_accuracy: 0.8972\n",
      "Epoch 2/10\n",
      "179/179 [==============================] - 946s 5s/step - loss: 0.3159 - accuracy: 0.8802 - val_loss: 0.3105 - val_accuracy: 0.8718\n",
      "Epoch 3/10\n",
      "179/179 [==============================] - 945s 5s/step - loss: 0.2627 - accuracy: 0.8984 - val_loss: 0.2315 - val_accuracy: 0.9174\n",
      "Epoch 4/10\n",
      "179/179 [==============================] - 947s 5s/step - loss: 0.2087 - accuracy: 0.9268 - val_loss: 0.1921 - val_accuracy: 0.9237\n",
      "Epoch 5/10\n",
      "179/179 [==============================] - 950s 5s/step - loss: 0.1852 - accuracy: 0.9306 - val_loss: 0.0797 - val_accuracy: 0.9735\n",
      "Epoch 6/10\n",
      "179/179 [==============================] - 947s 5s/step - loss: 0.1494 - accuracy: 0.9460 - val_loss: 0.0942 - val_accuracy: 0.9645\n",
      "Epoch 7/10\n",
      "179/179 [==============================] - 948s 5s/step - loss: 0.1438 - accuracy: 0.9481 - val_loss: 0.1677 - val_accuracy: 0.9296\n",
      "Epoch 8/10\n",
      "179/179 [==============================] - 947s 5s/step - loss: 0.1062 - accuracy: 0.9632 - val_loss: 0.0729 - val_accuracy: 0.9718\n",
      "Epoch 9/10\n",
      "179/179 [==============================] - 947s 5s/step - loss: 0.1146 - accuracy: 0.9611 - val_loss: 0.0858 - val_accuracy: 0.9725\n",
      "Epoch 10/10\n",
      "179/179 [==============================] - 945s 5s/step - loss: 0.0886 - accuracy: 0.9709 - val_loss: 0.1479 - val_accuracy: 0.9383\n",
      "180/180 [==============================] - 474s 3s/step - loss: 0.1479 - accuracy: 0.9383\n",
      "\n",
      "\n",
      "Minutes taken = 633.1540031512578\n"
     ]
    },
    {
     "data": {
      "text/html": [
       "<div>\n",
       "<style scoped>\n",
       "    .dataframe tbody tr th:only-of-type {\n",
       "        vertical-align: middle;\n",
       "    }\n",
       "\n",
       "    .dataframe tbody tr th {\n",
       "        vertical-align: top;\n",
       "    }\n",
       "\n",
       "    .dataframe thead th {\n",
       "        text-align: right;\n",
       "    }\n",
       "</style>\n",
       "<table border=\"1\" class=\"dataframe\">\n",
       "  <thead>\n",
       "    <tr style=\"text-align: right;\">\n",
       "      <th></th>\n",
       "      <th>epochs</th>\n",
       "      <th>batch_size</th>\n",
       "      <th>accuracy</th>\n",
       "    </tr>\n",
       "  </thead>\n",
       "  <tbody>\n",
       "    <tr>\n",
       "      <th>0</th>\n",
       "      <td>1</td>\n",
       "      <td>8</td>\n",
       "      <td>86.132401</td>\n",
       "    </tr>\n",
       "    <tr>\n",
       "      <th>1</th>\n",
       "      <td>1</td>\n",
       "      <td>16</td>\n",
       "      <td>88.466901</td>\n",
       "    </tr>\n",
       "    <tr>\n",
       "      <th>2</th>\n",
       "      <td>2</td>\n",
       "      <td>8</td>\n",
       "      <td>90.139371</td>\n",
       "    </tr>\n",
       "    <tr>\n",
       "      <th>3</th>\n",
       "      <td>2</td>\n",
       "      <td>16</td>\n",
       "      <td>88.501740</td>\n",
       "    </tr>\n",
       "    <tr>\n",
       "      <th>4</th>\n",
       "      <td>5</td>\n",
       "      <td>8</td>\n",
       "      <td>96.689898</td>\n",
       "    </tr>\n",
       "    <tr>\n",
       "      <th>5</th>\n",
       "      <td>5</td>\n",
       "      <td>16</td>\n",
       "      <td>96.480834</td>\n",
       "    </tr>\n",
       "    <tr>\n",
       "      <th>6</th>\n",
       "      <td>10</td>\n",
       "      <td>8</td>\n",
       "      <td>96.236932</td>\n",
       "    </tr>\n",
       "    <tr>\n",
       "      <th>7</th>\n",
       "      <td>10</td>\n",
       "      <td>16</td>\n",
       "      <td>93.832755</td>\n",
       "    </tr>\n",
       "  </tbody>\n",
       "</table>\n",
       "</div>"
      ],
      "text/plain": [
       "   epochs  batch_size   accuracy\n",
       "0       1           8  86.132401\n",
       "1       1          16  88.466901\n",
       "2       2           8  90.139371\n",
       "3       2          16  88.501740\n",
       "4       5           8  96.689898\n",
       "5       5          16  96.480834\n",
       "6      10           8  96.236932\n",
       "7      10          16  93.832755"
      ]
     },
     "execution_count": 15,
     "metadata": {},
     "output_type": "execute_result"
    }
   ],
   "source": [
    "TheBaseModel = VGG16(input_shape= image_size+[3],weights='imagenet',include_top=False) # load a clean base model\n",
    "\n",
    "param_label = 'epochs'\n",
    "param_list = [1,2,5,10] # [5, 10, 15, 20]\n",
    "\n",
    "param2_label = 'batch_size'\n",
    "param2_list = [8, 16] # [8, 16, 32] am using this batch sizes for now until we fix the accuracy issue, proper batch sizes to be use [8, 16, 32, 64, 128]\n",
    "\n",
    "accuracy_table = {param_label: [], param2_label: [], 'accuracy': []}\n",
    "tic = time.time()\n",
    "for param in tqdm.tqdm_notebook(param_list):\n",
    "    for param2 in tqdm_notebook(param2_list):\n",
    "        \n",
    "        # generate train and validation data\n",
    "        train_generator,val_generator, _ = get_data_generator(train_dataset_path,validation_dataset_path,test_dataset_path, targetsize_constant, classmode_constant, param2)\n",
    "        # train, predict and evaluate model\n",
    "        accuracy, _ = train_evaluate_the_model(train_generator, val_generator, optimizer_initial, param, TheBaseModel)\n",
    "        \n",
    "        # collect results\n",
    "        accuracy_table[param_label].append(param)\n",
    "        accuracy_table[param2_label].append(param2)\n",
    "        accuracy_table['accuracy'].append(accuracy)\n",
    "        \n",
    "accuracy_table = pd.DataFrame(accuracy_table) # convert the table to a dataframe\n",
    "toc = time.time()\n",
    "print(\"Minutes taken = \" + str((toc-tic)/60.0))\n",
    "accuracy_table # display the resullts"
   ]
  },
  {
   "cell_type": "code",
   "execution_count": null,
   "metadata": {
    "id": "lHDcky02lJUc",
    "outputId": "da1e26da-b2e5-4a9b-a745-dd55f7549084"
   },
   "outputs": [
    {
     "data": {
      "text/plain": [
       "<matplotlib.legend.Legend at 0x213afd64af0>"
      ]
     },
     "execution_count": 18,
     "metadata": {},
     "output_type": "execute_result"
    },
    {
     "data": {
      "image/png": "[encoded data removed]",
      "text/plain": [
       "<Figure size 720x576 with 1 Axes>"
      ]
     },
     "metadata": {},
     "output_type": "display_data"
    }
   ],
   "source": [
    "# Plot performance versus params\n",
    "rcParams['figure.figsize'] = 10, 8 # width 10, height 8\n",
    "temp = accuracy_table[accuracy_table[param2_label]==param2_list[0]]\n",
    "ax = temp.plot(x=param_label, y='accuracy', style='bs-', grid=True)\n",
    "legend_list = [param2_label + '_' + str(param2_list[0])]\n",
    "\n",
    "color_list = ['r', 'g', 'k', '0.75']\n",
    "for i in range(1,len(param2_list)):\n",
    "    temp = accuracy_table[accuracy_table[param2_label]==param2_list[i]]\n",
    "    ax = temp.plot(x=param_label, y='accuracy', color=color_list[i%len(color_list)], marker='s', grid=True, ax=ax)\n",
    "    legend_list.append(param2_label + '_' + str(param2_list[i]))\n",
    "\n",
    "ax.set_xlabel(param_label)\n",
    "ax.set_ylabel(\"accuracy\")\n",
    "plt.rcParams.update({'font.size': 14})\n",
    "plt.legend(legend_list, loc='center left', bbox_to_anchor=(1.0, 0.5)) # positions legend outside figure\n"
   ]
  },
  {
   "cell_type": "code",
   "execution_count": null,
   "metadata": {
    "id": "SBIy3Bu0lJUc",
    "outputId": "f0d53305-cd1d-43cf-e0cf-9d99ad9e47ec"
   },
   "outputs": [
    {
     "name": "stdout",
     "output_type": "stream",
     "text": [
      "max Accuracy = 96.690\n",
      "optimum epochs = 5\n",
      "optimum batch_size = 8\n"
     ]
    }
   ],
   "source": [
    "# Get optimum value for param and param2\n",
    "temp = accuracy_table[accuracy_table['accuracy'] == accuracy_table['accuracy'].max()]\n",
    "epochs_opt = temp[param_label].values[0]\n",
    "batch_size_opt = temp[param2_label].values[0]\n",
    "print(\"max Accuracy = %0.3f\" % accuracy_table['accuracy'].max())\n",
    "print(\"optimum \" + param_label + \" = \" + str(epochs_opt))\n",
    "print(\"optimum \" + param2_label + \" = \" + str(batch_size_opt))"
   ]
  },
  {
   "cell_type": "markdown",
   "metadata": {
    "id": "UIwXb42OlJUc"
   },
   "source": [
    "# **Tunning dropout of the model**"
   ]
  },
  {
   "cell_type": "code",
   "execution_count": null,
   "metadata": {
    "colab": {
     "referenced_widgets": [
      "11f301c0f74b44a0b381ecab79bacbec"
     ]
    },
    "id": "hChDlbSalJUd",
    "outputId": "c5412adb-8b5e-4dd1-a790-9fb778a8c190"
   },
   "outputs": [
    {
     "data": {
      "application/vnd.jupyter.widget-view+json": {
       "model_id": "11f301c0f74b44a0b381ecab79bacbec",
       "version_major": 2,
       "version_minor": 0
      },
      "text/plain": [
       "HBox(children=(HTML(value=''), FloatProgress(value=0.0, max=5.0), HTML(value='')))"
      ]
     },
     "metadata": {},
     "output_type": "display_data"
    },
    {
     "name": "stderr",
     "output_type": "stream",
     "text": [
      "C:\\Users\\Student\\anaconda_3\\lib\\site-packages\\tensorflow\\python\\keras\\engine\\training.py:1940: UserWarning: `Model.fit_generator` is deprecated and will be removed in a future version. Please use `Model.fit`, which supports generators.\n",
      "  warnings.warn('`Model.fit_generator` is deprecated and '\n"
     ]
    },
    {
     "name": "stdout",
     "output_type": "stream",
     "text": [
      "Epoch 1/4\n",
      "358/358 [==============================] - 1136s 3s/step - loss: 0.8254 - accuracy: 0.7324 - val_loss: 0.4870 - val_accuracy: 0.8007\n",
      "Epoch 2/4\n",
      "358/358 [==============================] - 1132s 3s/step - loss: 0.4211 - accuracy: 0.8442 - val_loss: 0.3302 - val_accuracy: 0.8801\n",
      "Epoch 3/4\n",
      "358/358 [==============================] - 1076s 3s/step - loss: 0.3479 - accuracy: 0.8714 - val_loss: 0.2235 - val_accuracy: 0.9202\n",
      "Epoch 4/4\n",
      "358/358 [==============================] - 1080s 3s/step - loss: 0.2609 - accuracy: 0.9060 - val_loss: 0.1825 - val_accuracy: 0.9275\n",
      "359/359 [==============================] - 538s 1s/step - loss: 0.1825 - accuracy: 0.9275\n",
      "Epoch 1/4\n",
      "358/358 [==============================] - 1084s 3s/step - loss: 0.9356 - accuracy: 0.7261 - val_loss: 0.3973 - val_accuracy: 0.8526\n",
      "Epoch 2/4\n",
      "358/358 [==============================] - 1132s 3s/step - loss: 0.4669 - accuracy: 0.8274 - val_loss: 0.3752 - val_accuracy: 0.8666\n",
      "Epoch 3/4\n",
      "358/358 [==============================] - 1086s 3s/step - loss: 0.3197 - accuracy: 0.8829 - val_loss: 0.2591 - val_accuracy: 0.9045\n",
      "Epoch 4/4\n",
      "358/358 [==============================] - 1030s 3s/step - loss: 0.2868 - accuracy: 0.8945 - val_loss: 0.1707 - val_accuracy: 0.9310\n",
      "359/359 [==============================] - 515s 1s/step - loss: 0.1707 - accuracy: 0.9310\n",
      "Epoch 1/4\n",
      "358/358 [==============================] - 1052s 3s/step - loss: 1.0288 - accuracy: 0.6855 - val_loss: 0.3851 - val_accuracy: 0.8707\n",
      "Epoch 2/4\n",
      "358/358 [==============================] - 1030s 3s/step - loss: 0.4366 - accuracy: 0.8435 - val_loss: 0.4316 - val_accuracy: 0.8460\n",
      "Epoch 3/4\n",
      "358/358 [==============================] - 1029s 3s/step - loss: 0.3176 - accuracy: 0.8774 - val_loss: 0.2407 - val_accuracy: 0.9129\n",
      "Epoch 4/4\n",
      "358/358 [==============================] - 1031s 3s/step - loss: 0.3216 - accuracy: 0.8924 - val_loss: 0.2067 - val_accuracy: 0.9300\n",
      "359/359 [==============================] - 513s 1s/step - loss: 0.2067 - accuracy: 0.9300\n",
      "Epoch 1/4\n",
      "358/358 [==============================] - 1027s 3s/step - loss: 1.2053 - accuracy: 0.6548 - val_loss: 0.4078 - val_accuracy: 0.8341\n",
      "Epoch 2/4\n",
      "358/358 [==============================] - 1027s 3s/step - loss: 0.4809 - accuracy: 0.8323 - val_loss: 0.2800 - val_accuracy: 0.8990\n",
      "Epoch 3/4\n",
      "358/358 [==============================] - 1024s 3s/step - loss: 0.3574 - accuracy: 0.8739 - val_loss: 0.2445 - val_accuracy: 0.9045\n",
      "Epoch 4/4\n",
      "358/358 [==============================] - 1025s 3s/step - loss: 0.2982 - accuracy: 0.8973 - val_loss: 0.1775 - val_accuracy: 0.9355\n",
      "359/359 [==============================] - 512s 1s/step - loss: 0.1775 - accuracy: 0.9355\n",
      "Epoch 1/4\n",
      "358/358 [==============================] - 1044s 3s/step - loss: 1.5150 - accuracy: 0.5975 - val_loss: 0.5066 - val_accuracy: 0.8115\n",
      "Epoch 2/4\n",
      "358/358 [==============================] - 1050s 3s/step - loss: 0.6077 - accuracy: 0.7890 - val_loss: 0.4126 - val_accuracy: 0.8495\n",
      "Epoch 3/4\n",
      "358/358 [==============================] - 1048s 3s/step - loss: 0.4840 - accuracy: 0.8410 - val_loss: 0.2681 - val_accuracy: 0.9063\n",
      "Epoch 4/4\n",
      "358/358 [==============================] - 1041s 3s/step - loss: 0.4105 - accuracy: 0.8651 - val_loss: 0.2440 - val_accuracy: 0.9178\n",
      "359/359 [==============================] - 521s 1s/step - loss: 0.2440 - accuracy: 0.9178\n",
      "\n",
      "Minutes taken = 396.4226357460022\n"
     ]
    },
    {
     "data": {
      "text/html": [
       "<div>\n",
       "<style scoped>\n",
       "    .dataframe tbody tr th:only-of-type {\n",
       "        vertical-align: middle;\n",
       "    }\n",
       "\n",
       "    .dataframe tbody tr th {\n",
       "        vertical-align: top;\n",
       "    }\n",
       "\n",
       "    .dataframe thead th {\n",
       "        text-align: right;\n",
       "    }\n",
       "</style>\n",
       "<table border=\"1\" class=\"dataframe\">\n",
       "  <thead>\n",
       "    <tr style=\"text-align: right;\">\n",
       "      <th></th>\n",
       "      <th>dropout_prob</th>\n",
       "      <th>accuracy</th>\n",
       "    </tr>\n",
       "  </thead>\n",
       "  <tbody>\n",
       "    <tr>\n",
       "      <th>0</th>\n",
       "      <td>0.5</td>\n",
       "      <td>92.752612</td>\n",
       "    </tr>\n",
       "    <tr>\n",
       "      <th>1</th>\n",
       "      <td>0.6</td>\n",
       "      <td>93.101043</td>\n",
       "    </tr>\n",
       "    <tr>\n",
       "      <th>2</th>\n",
       "      <td>0.7</td>\n",
       "      <td>92.996514</td>\n",
       "    </tr>\n",
       "    <tr>\n",
       "      <th>3</th>\n",
       "      <td>0.8</td>\n",
       "      <td>93.554008</td>\n",
       "    </tr>\n",
       "    <tr>\n",
       "      <th>4</th>\n",
       "      <td>0.9</td>\n",
       "      <td>91.777003</td>\n",
       "    </tr>\n",
       "  </tbody>\n",
       "</table>\n",
       "</div>"
      ],
      "text/plain": [
       "   dropout_prob   accuracy\n",
       "0           0.5  92.752612\n",
       "1           0.6  93.101043\n",
       "2           0.7  92.996514\n",
       "3           0.8  93.554008\n",
       "4           0.9  91.777003"
      ]
     },
     "execution_count": 9,
     "metadata": {},
     "output_type": "execute_result"
    }
   ],
   "source": [
    "param_label = 'dropout_prob'\n",
    "param_list = [0.5, 0.6, 0.7, 0.8, 0.9]\n",
    "\n",
    "TheBaseModel = VGG16(input_shape= image_size+[3],weights='imagenet',include_top=False) # load a clean base model\n",
    "\n",
    "accuracy_table = {param_label: [], 'accuracy': []}\n",
    "tic = time.time()\n",
    "for param in tqdm.tqdm_notebook(param_list):\n",
    "    # Train, predict and evaluate model\n",
    "    accuracy, _ = train_evaluate_the_model(train_generator_initial,val_generator_initial,optimizer_initial,epochs_initial,param,TheBaseModel) # replace epochs with 'epochs_initial'\n",
    "    \n",
    "    # Collect results\n",
    "    accuracy_table[param_label].append(param)\n",
    "    accuracy_table['accuracy'].append(accuracy)\n",
    "    \n",
    "accuracy_table = pd.DataFrame(accuracy_table) # convert the table to a dataframe\n",
    "toc = time.time()\n",
    "print(\"Minutes taken = \" + str((toc-tic)/60.0))\n",
    "accuracy_table # display the resullts"
   ]
  },
  {
   "cell_type": "code",
   "execution_count": null,
   "metadata": {
    "id": "KlZJGKLllJUd",
    "outputId": "fc94c4b9-5e4d-4a72-d3c6-ee475c685148"
   },
   "outputs": [
    {
     "data": {
      "text/plain": [
       "Text(0, 0.5, 'accuracy)')"
      ]
     },
     "execution_count": 10,
     "metadata": {},
     "output_type": "execute_result"
    },
    {
     "data": {
      "image/png": "[encoded data removed]",
      "text/plain": [
       "<Figure size 720x576 with 1 Axes>"
      ]
     },
     "metadata": {},
     "output_type": "display_data"
    }
   ],
   "source": [
    "from pylab import rcParams\n",
    "\n",
    "# plot results\n",
    "rcParams['figure.figsize'] = 10,8 # width 10, height 8\n",
    "\n",
    "ax = accuracy_table.plot(x='dropout_prob', y='accuracy',style='bx-', grid=True)\n",
    "#ax.set_xticklabels(param_list) # gave me an error when used\n",
    "ax.set_xlabel(\"dropout_prob\")\n",
    "ax.set_ylabel(\"accuracy)\")"
   ]
  },
  {
   "cell_type": "code",
   "execution_count": null,
   "metadata": {
    "id": "OTKPVrvLlJUd",
    "outputId": "1c9e8a27-a6ae-48a6-f39c-d1b5822b2810"
   },
   "outputs": [
    {
     "name": "stdout",
     "output_type": "stream",
     "text": [
      "max Accuracy = 93.554\n",
      "optimum dropout_prob = 0.8\n"
     ]
    }
   ],
   "source": [
    "# Get optimum value for param\n",
    "temp = accuracy_table[accuracy_table['accuracy'] == accuracy_table['accuracy'].max()]\n",
    "dropout_opt = temp[param_label].values[0]\n",
    "print(\"max Accuracy = %0.3f\" % accuracy_table['accuracy'].max())\n",
    "print(\"optimum \" + param_label + \" = \" + str(dropout_opt))"
   ]
  },
  {
   "cell_type": "code",
   "execution_count": null,
   "metadata": {
    "id": "qxyU9edalJUd"
   },
   "outputs": [],
   "source": [
    "\n",
    "dropout_opt = 0.8\n",
    "batch_size_opt = 8\n",
    "epochs_opt = 5\n",
    "optimizer_opt = 'SGD'\n"
   ]
  },
  {
   "cell_type": "markdown",
   "metadata": {
    "id": "Yyb1QGdslJUd"
   },
   "source": [
    "# **Collecting all optimum tuned parameters**"
   ]
  },
  {
   "cell_type": "code",
   "execution_count": null,
   "metadata": {
    "id": "HZ9MCmirlJUe",
    "outputId": "53cc17ae-c888-40e4-b1e1-e3ccea7e7d59"
   },
   "outputs": [
    {
     "data": {
      "text/html": [
       "<div>\n",
       "<style scoped>\n",
       "    .dataframe tbody tr th:only-of-type {\n",
       "        vertical-align: middle;\n",
       "    }\n",
       "\n",
       "    .dataframe tbody tr th {\n",
       "        vertical-align: top;\n",
       "    }\n",
       "\n",
       "    .dataframe thead th {\n",
       "        text-align: right;\n",
       "    }\n",
       "</style>\n",
       "<table border=\"1\" class=\"dataframe\">\n",
       "  <thead>\n",
       "    <tr style=\"text-align: right;\">\n",
       "      <th></th>\n",
       "      <th>param</th>\n",
       "      <th>original</th>\n",
       "      <th>after_tuning</th>\n",
       "    </tr>\n",
       "  </thead>\n",
       "  <tbody>\n",
       "    <tr>\n",
       "      <th>0</th>\n",
       "      <td>optimizer</td>\n",
       "      <td>Adam</td>\n",
       "      <td>SGD</td>\n",
       "    </tr>\n",
       "    <tr>\n",
       "      <th>1</th>\n",
       "      <td>epochs</td>\n",
       "      <td>4</td>\n",
       "      <td>5</td>\n",
       "    </tr>\n",
       "    <tr>\n",
       "      <th>2</th>\n",
       "      <td>batch_size</td>\n",
       "      <td>8</td>\n",
       "      <td>8</td>\n",
       "    </tr>\n",
       "    <tr>\n",
       "      <th>3</th>\n",
       "      <td>dropout_prob</td>\n",
       "      <td>0.5</td>\n",
       "      <td>0.8</td>\n",
       "    </tr>\n",
       "  </tbody>\n",
       "</table>\n",
       "</div>"
      ],
      "text/plain": [
       "          param original after_tuning\n",
       "0     optimizer     Adam          SGD\n",
       "1        epochs        4            5\n",
       "2    batch_size        8            8\n",
       "3  dropout_prob      0.5          0.8"
      ]
     },
     "execution_count": 13,
     "metadata": {},
     "output_type": "execute_result"
    }
   ],
   "source": [
    "d = {'param': ['optimizer', 'epochs', 'batch_size','dropout_prob'],\n",
    "     'original': [optimizer_initial, epochs_initial, batchsize_initial,dropout_value_initial],\n",
    "     'after_tuning': [optimizer_opt, epochs_opt, batch_size_opt,dropout_opt]}\n",
    "tuned_params = pd.DataFrame(d)\n",
    "tuned_params"
   ]
  },
  {
   "cell_type": "markdown",
   "metadata": {
    "id": "TQ7p6iJRlJUe"
   },
   "source": [
    "# **Creating the final model with optimum parameters**"
   ]
  },
  {
   "cell_type": "code",
   "execution_count": null,
   "metadata": {
    "id": "QC1L4nCMlJUe",
    "outputId": "582498bf-718c-4ac2-c48f-58ad51d88c44"
   },
   "outputs": [
    {
     "name": "stdout",
     "output_type": "stream",
     "text": [
      "Found 2870 images belonging to 4 classes.\n",
      "Found 2870 images belonging to 4 classes.\n",
      "Found 394 images belonging to 4 classes.\n"
     ]
    },
    {
     "name": "stderr",
     "output_type": "stream",
     "text": [
      "C:\\Users\\Student\\anaconda_3\\lib\\site-packages\\tensorflow\\python\\keras\\engine\\training.py:1940: UserWarning: `Model.fit_generator` is deprecated and will be removed in a future version. Please use `Model.fit`, which supports generators.\n",
      "  warnings.warn('`Model.fit_generator` is deprecated and '\n"
     ]
    },
    {
     "name": "stdout",
     "output_type": "stream",
     "text": [
      "Epoch 1/5\n",
      "358/358 [==============================] - 1023s 3s/step - loss: 1.1318 - accuracy: 0.6338 - val_loss: 0.5083 - val_accuracy: 0.7958\n",
      "Epoch 2/5\n",
      "358/358 [==============================] - 1050s 3s/step - loss: 0.5398 - accuracy: 0.7883 - val_loss: 0.3276 - val_accuracy: 0.8808\n",
      "Epoch 3/5\n",
      "358/358 [==============================] - 1040s 3s/step - loss: 0.4479 - accuracy: 0.8239 - val_loss: 0.3719 - val_accuracy: 0.8505\n",
      "Epoch 4/5\n",
      "358/358 [==============================] - 1040s 3s/step - loss: 0.3779 - accuracy: 0.8641 - val_loss: 0.2510 - val_accuracy: 0.9122\n",
      "Epoch 5/5\n",
      "358/358 [==============================] - 1035s 3s/step - loss: 0.3171 - accuracy: 0.8788 - val_loss: 0.2036 - val_accuracy: 0.9230\n",
      "359/359 [==============================] - 520s 1s/step - loss: 0.2036 - accuracy: 0.9230\n"
     ]
    }
   ],
   "source": [
    "# get train and validation data generator\n",
    "train_generator_opt,val_generator_opt,test_generator_opt = get_data_generator(train_dataset_path,validation_dataset_path,test_dataset_path, targetsize_constant, classmode_constant, batch_size_opt)\n",
    "\n",
    "# load the base model\n",
    "The_base_Model = VGG16(input_shape= image_size+[3],weights='imagenet',include_top=False)\n",
    "\n",
    "# train and evaluate the model\n",
    "accuracy, New_model = train_evaluate_the_model(train_generator_opt, val_generator_opt, optimizer_opt, epochs_opt,dropout_opt, The_base_Model)\n"
   ]
  },
  {
   "cell_type": "code",
   "execution_count": null,
   "metadata": {
    "id": "76Yq-pLelJUe",
    "outputId": "c3054317-8102-415e-9d2d-9ae40cfecb5a"
   },
   "outputs": [
    {
     "data": {
      "text/plain": [
       "92.29965209960938"
      ]
     },
     "execution_count": 15,
     "metadata": {},
     "output_type": "execute_result"
    }
   ],
   "source": [
    "accuracy"
   ]
  },
  {
   "cell_type": "markdown",
   "metadata": {
    "id": "bHoBCegflJUe"
   },
   "source": [
    "# **Save the final model**"
   ]
  },
  {
   "cell_type": "code",
   "execution_count": null,
   "metadata": {
    "id": "qGiJBomJlJUe"
   },
   "outputs": [],
   "source": [
    "New_model.save('brain_tumor_classification_VGG16_test1309.h5') "
   ]
  },
  {
   "cell_type": "markdown",
   "metadata": {
    "id": "8AI_l9g1lJUe"
   },
   "source": [
    "# ---------------------------------------- END OF NOTEBOOK -------------------------------------\n"
   ]
  }
 ],
 "metadata": {
  "colab": {
   "collapsed_sections": [],
   "name": "FF VGG16 Model - Brain Tumor Classification + Model Creation and Fine Tunning .ipynb",
   "provenance": []
  },
  "kernelspec": {
   "display_name": "Python 3",
   "language": "python",
   "name": "python3"
  },
  "language_info": {
   "codemirror_mode": {
    "name": "ipython",
    "version": 3
   },
   "file_extension": ".py",
   "mimetype": "text/x-python",
   "name": "python",
   "nbconvert_exporter": "python",
   "pygments_lexer": "ipython3",
   "version": "3.8.5"
  }
 },
 "nbformat": 4,
 "nbformat_minor": 1
}

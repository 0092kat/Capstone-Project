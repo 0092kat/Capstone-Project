{
 "cells": [
  {
   "cell_type": "markdown",
   "metadata": {
    "id": "clrGUGuExT_o"
   },
   "source": [
    "## The Efficientnet model development and fine tuning\n",
    "\n",
    "in this notebook we will load and add our layers to the base model of the pre-trained EfficientnetB7 model, and fine tune the following parameters of the model:\n",
    "1. **Optimizers** - We will use only 5 optimizers to see which one works best, namely; 1. `SGD`,2. `RMSprop`,3. `Adam`,4. `Adagrad`,5. `Adadelta`. the best optimizer will be used in the New model\n",
    "2. **Number of epochs** - We will also use only 4 epochs to choose the best performer namely; `1, 2, 5, 10`.\n",
    "3. **Batch size** - we will also use these batch sizes to choose the optimum batch size, namely; `8, 16`. \n",
    "4. **Dropout** - we will optimise the dropout of the model, values `0.5, 0.6, 0.7, 0.8, 0.9`\n",
    "\n",
    "> **Section one:** we will create common function and also create our base model, with the following initial parameters: **Batch size** `8`, **Optimizer** `Adam`, **Number of epochs** `4`, **dropout value** `0.5`. \n",
    "\n",
    "# **Import libraries that we will use**"
   ]
  },
  {
   "cell_type": "code",
   "execution_count": null,
   "metadata": {
    "id": "4cjGKuypxT_t"
   },
   "outputs": [],
   "source": [
    "import pandas as pd\n",
    "import numpy as np\n",
    "import os\n",
    "import tensorflow as tf\n",
    "import keras\n",
    "import matplotlib.pyplot as plt\n",
    "from tensorflow.keras.layers import Dense, GlobalAveragePooling2D\n",
    "import efficientnet.keras as efn \n",
    "from tensorflow.keras.preprocessing import image\n",
    "from tensorflow.keras.applications.vgg16 import preprocess_input\n",
    "from tensorflow.keras.preprocessing.image import ImageDataGenerator\n",
    "from tensorflow.keras.models import Model\n",
    "from tensorflow.keras.optimizers import Adam\n",
    "from tensorflow.keras.layers import Input\n",
    "from sklearn.metrics import confusion_matrix\n",
    "from tqdm import tqdm_notebook\n",
    "import time\n",
    "import tqdm.gui as tqdm\n",
    "import tqdm.notebook as tqdm"
   ]
  },
  {
   "cell_type": "code",
   "execution_count": null,
   "metadata": {
    "id": "U79EViinxT_v"
   },
   "outputs": [],
   "source": [
    "from tensorflow.keras.layers import Activation, Dense"
   ]
  },
  {
   "cell_type": "markdown",
   "metadata": {
    "id": "sr5Vl1mxxT_x"
   },
   "source": [
    "# **Common functions**"
   ]
  },
  {
   "cell_type": "code",
   "execution_count": null,
   "metadata": {
    "id": "T3mIQtpcxT_y"
   },
   "outputs": [],
   "source": [
    "# common functions that i will use\n",
    "\n",
    "def get_data_generator(train_data_path, \\\n",
    "                       val_data_path, \\\n",
    "                       targetsize, \\\n",
    "                       classmode, \\\n",
    "                       batchsize):\n",
    "    \"\"\"\n",
    "    This function is a data generator function for train, validation, and testing data\n",
    "    Inputs\n",
    "        train_data_path   : train data path for the dataset \n",
    "        val_data_path     : validation data path for the dataset\n",
    "        targetsize        : target size for the generator to resize all images to, (224,224)\n",
    "        classmode         : class mode, 'categorical'\n",
    "        batchsize         : batch size\n",
    "    Outputs\n",
    "        train_generator   : generated train data\n",
    "        val_generator     : generated validation data\n",
    "    \n",
    "    \"\"\"\n",
    "    train_datagen=ImageDataGenerator(preprocessing_function=preprocess_input)\n",
    "    val_datagen = ImageDataGenerator(preprocessing_function=preprocess_input)\n",
    "    \n",
    "    \n",
    "    train_generator=train_datagen.flow_from_directory(train_data_path, # this is where you specify the path to the main data folder\n",
    "                                                 target_size=targetsize,\n",
    "                                                 color_mode='rgb',\n",
    "                                                 batch_size=batchsize,\n",
    "                                                 class_mode=classmode,\n",
    "                                                 shuffle=True)\n",
    "    \n",
    "    val_generator=val_datagen.flow_from_directory(val_data_path, # this is where you specify the path to the main data folder\n",
    "                                                 target_size=targetsize,\n",
    "                                                 color_mode='rgb',\n",
    "                                                 batch_size=batchsize,\n",
    "                                                 class_mode=classmode,\n",
    " \n",
    "    return train_generator,val_generator   \n",
    "    \n",
    "\n",
    "\n",
    "def train_evaluate_the_model(train_generator, \\\n",
    "                             val_generator, \\\n",
    "                             optimizer, \\\n",
    "                             epochs, \\\n",
    "                             dropout_value, \\\n",
    "                             TheModel):\n",
    "    '''\n",
    "    train the model, do predictions, and do evaluation and return the accuracy of the model\n",
    "    Inputs\n",
    "        train_generator : generated train data\n",
    "        val_generator   : generated validation data\n",
    "        optimizer       : the optimizer method used to compile the model\n",
    "        epochs          : the epochs of the model use to fit the model\n",
    "        dropout_value   : the dropout value\n",
    "        TheModel        : The pretrained model loaded,\n",
    "    Outputs\n",
    "        accuracy        : The accuracy of the model\n",
    "    '''\n",
    "    # load pretrained model and add layers on top of the model\n",
    "    x = TheModel.output\n",
    "    x = tf.keras.layers.Flatten()(x)\n",
    "    x = Dense(1024, activation=\"relu\")(x)\n",
    "    x = Dense(1024, activation=\"relu\")(x)\n",
    "    x = Dense(512, activation=\"relu\")(x)\n",
    "    x = tf.keras.layers.Dropout(dropout_value)(x)\n",
    "    predictions = Dense(4, activation=\"sigmoid\")(x)\n",
    "    model = Model(inputs = TheModel.input, outputs = predictions)\n",
    "    \n",
    "    # freeze base layers for training\n",
    "    for layer in TheModel.layers:\n",
    "        layer.trainable = False\n",
    "    \n",
    "    # compile the model\n",
    "    model.compile(optimizer=optimizer,\n",
    "              loss='categorical_crossentropy',\n",
    "              metrics=['accuracy'])\n",
    "    step_size_train=train_generator.n//train_generator.batch_size\n",
    "    # fit the model\n",
    "    r = model.fit_generator(generator=train_generator,\n",
    "                        validation_data=val_generator,\n",
    "                        steps_per_epoch=step_size_train,\n",
    "                        epochs=epochs)\n",
    "    # valuate the model\n",
    "    scores = model.evaluate(val_generator)\n",
    "    accuracy = scores[1]*100\n",
    "    \n",
    "    return accuracy, model"
   ]
  },
  {
   "cell_type": "markdown",
   "metadata": {
    "id": "7mN111XHxT_1"
   },
   "source": [
    "# **Load and generate data**"
   ]
  },
  {
   "cell_type": "code",
   "execution_count": null,
   "metadata": {
    "id": "0_Tnzy7TxT_2",
    "outputId": "30951471-b386-46e1-bf08-0b4193c2497f"
   },
   "outputs": [
    {
     "name": "stdout",
     "output_type": "stream",
     "text": [
      "Found 2870 images belonging to 4 classes.\n",
      "Found 2870 images belonging to 4 classes.\n",
      "Found 394 images belonging to 4 classes.\n"
     ]
    }
   ],
   "source": [
    "train_datagen=ImageDataGenerator(preprocessing_function=preprocess_input) #included in our dependencies\n",
    "val_datagen = ImageDataGenerator(preprocessing_function=preprocess_input)\n",
    "\n",
    "'''\n",
    "Initial and constant parameters for the model\n",
    "initial parameters\n",
    "       batch_size    : the initial batch size we will create our base model with\n",
    "Constant parameters\n",
    "       target_size   : Constant image target size for the whole notebook which is (224,224)\n",
    "       class_mode    : class mode we will use for the whole notebook, which is 'categorical'\n",
    "'''\n",
    "# constant parameters\n",
    "targetsize_constant = (224,224)\n",
    "classmode_constant = 'categorical'\n",
    "\n",
    "# initial parameters\n",
    "batchsize_initial = 8\n",
    "epochs_initial = 4\n",
    "dropout_value_initial = 0.5\n",
    "optimizer_initial = 'Adam'\n",
    "\n",
    "# Data paths\n",
    "train_dataset_path = 'Dataset/Training/'\n",
    "validation_dataset_path = 'Dataset/Validation/'\n",
    "test_dataset_path = 'Dataset/Testing/'\n",
    "\n",
    "\n",
    "train_generator_initial = train_datagen.flow_from_directory(train_dataset_path, # this is where you specify the path to the main data folder\n",
    "                                                 target_size=targetsize_constant,\n",
    "                                                 color_mode='rgb',\n",
    "                                                 batch_size=batchsize_initial,\n",
    "                                                 class_mode=classmode_constant,\n",
    "                                                 shuffle=True)\n",
    "val_generator_initial = val_datagen.flow_from_directory(validation_dataset_path, # this is where you specify the path to the main data folder\n",
    "                                                 target_size=targetsize_constant,\n",
    "                                                 color_mode='rgb',\n",
    "                                                 batch_size=batchsize_initial,\n",
    "                                                 class_mode=classmode_constant,\n",
    "                                                 shuffle=True)\n"
   ]
  },
  {
   "cell_type": "code",
   "execution_count": null,
   "metadata": {
    "id": "aq8czHBCxT_3",
    "outputId": "2eb4160d-c972-4b79-bdca-dd840ea4652f"
   },
   "outputs": [
    {
     "data": {
      "text/plain": [
       "{'glioma_tumor': 0, 'meningioma_tumor': 1, 'no_tumor': 2, 'pituitary_tumor': 3}"
      ]
     },
     "execution_count": 8,
     "metadata": {},
     "output_type": "execute_result"
    }
   ],
   "source": [
    "# display classes found in the data\n",
    "train_generator_initial.class_indices"
   ]
  },
  {
   "cell_type": "markdown",
   "metadata": {
    "id": "G1yrduCMxT_3"
   },
   "source": [
    "# **Import the EfficientnetB7 base model**"
   ]
  },
  {
   "cell_type": "code",
   "execution_count": null,
   "metadata": {
    "id": "o2Xs9I5LxT_3"
   },
   "outputs": [],
   "source": [
    "from tensorflow.keras.applications import EfficientNetB7"
   ]
  },
  {
   "cell_type": "code",
   "execution_count": null,
   "metadata": {
    "id": "57exJ3OtxT_3"
   },
   "outputs": [],
   "source": [
    "image_size = [224,224] # choose image size\n",
    "# import the base model\n",
    "efnB7 = tf.keras.applications.efficientnet.EfficientNetB7(input_shape= image_size+[3],weights='imagenet',include_top=False)\n",
    "\n",
    "# storing the base model in the kernel for later use to avoid loading many times\n",
    "efnB7_basemodel = efnB7\n"
   ]
  },
  {
   "cell_type": "markdown",
   "metadata": {
    "id": "9wrIJiAZxT_4"
   },
   "source": [
    "#### Add layers on top of the base model"
   ]
  },
  {
   "cell_type": "code",
   "execution_count": null,
   "metadata": {
    "id": "dPYfNZkOxT_4",
    "outputId": "d3915800-bd69-407c-d138-df9a90ad5ffc"
   },
   "outputs": [
    {
     "data": {
      "text/plain": [
       "'\\n# add layers\\nx = efnB7.output\\nx = tf.keras.layers.Flatten()(x)\\nx = Dense(1024, activation=\"relu\")(x)\\nx = Dense(1024, activation=\"relu\")(x)\\nx = Dense(512, activation=\"relu\")(x)\\nx = tf.keras.layers.Dropout(dropout_value_initial)(x)\\npredictions = Dense(4, activation=\"sigmoid\")(x)\\nmodel = Model(inputs = efnB7.input, outputs = predictions)'"
      ]
     },
     "execution_count": 12,
     "metadata": {},
     "output_type": "execute_result"
    }
   ],
   "source": [
    "# initial parameter value\n",
    "dropout_value_initial = 0.1\n",
    "\n",
    "# add layers\n",
    "x = efnB7.output\n",
    "x = tf.keras.layers.Flatten()(x)\n",
    "x = Dense(1024, activation=\"relu\")(x)\n",
    "x = Dense(1024, activation=\"relu\")(x)\n",
    "x = Dense(512, activation=\"relu\")(x)\n",
    "x = tf.keras.layers.Dropout(dropout_value_initial)(x)\n",
    "predictions = Dense(4, activation=\"sigmoid\")(x)\n",
    "model = Model(inputs = efnB7.input, outputs = predictions)"
   ]
  },
  {
   "cell_type": "code",
   "execution_count": null,
   "metadata": {
    "id": "KgqpcREmxT_5"
   },
   "outputs": [],
   "source": [
    "# freeze base layers for training\n",
    "for layer in efnB7.layers:\n",
    "    layer.trainable = False"
   ]
  },
  {
   "cell_type": "markdown",
   "metadata": {
    "id": "pDdx8c3bxT_5"
   },
   "source": [
    "# **Compile the model**"
   ]
  },
  {
   "cell_type": "code",
   "execution_count": null,
   "metadata": {
    "id": "vDtNvzVVxT_5",
    "outputId": "ea3fe853-9c4d-4610-b6c2-0c6435d69f7e"
   },
   "outputs": [
    {
     "data": {
      "text/plain": [
       "\"\\n# compile the model\\nmodel.compile(optimizer=optimizer_initial,\\n              loss='categorical_crossentropy',\\n              metrics=['accuracy'])\""
      ]
     },
     "execution_count": 14,
     "metadata": {},
     "output_type": "execute_result"
    }
   ],
   "source": [
    "# initial optimizer\n",
    "optimizer_initial = 'Adam'\n",
    "\n",
    "# compile the model\n",
    "model.compile(optimizer=optimizer_initial,\n",
    "              loss='categorical_crossentropy',\n",
    "              metrics=['accuracy'])"
   ]
  },
  {
   "cell_type": "markdown",
   "metadata": {
    "id": "Z7pR6exfxT_6"
   },
   "source": [
    "# **Fit the model**"
   ]
  },
  {
   "cell_type": "code",
   "execution_count": null,
   "metadata": {
    "id": "aPtwNAyMxT_6",
    "outputId": "7c19915d-b144-48f9-bdd8-46292e223d80"
   },
   "outputs": [
    {
     "name": "stderr",
     "output_type": "stream",
     "text": [
      "C:\\Users\\Student\\anaconda_3\\lib\\site-packages\\tensorflow\\python\\keras\\engine\\training.py:1940: UserWarning: `Model.fit_generator` is deprecated and will be removed in a future version. Please use `Model.fit`, which supports generators.\n",
      "  warnings.warn('`Model.fit_generator` is deprecated and '\n"
     ]
    },
    {
     "name": "stdout",
     "output_type": "stream",
     "text": [
      "Epoch 1/4\n",
      "358/358 [==============================] - 1367s 4s/step - loss: 2.3466 - accuracy: 0.6600 - val_loss: 0.4941 - val_accuracy: 0.8362\n",
      "Epoch 2/4\n",
      "358/358 [==============================] - 1448s 4s/step - loss: 0.4798 - accuracy: 0.8298 - val_loss: 0.2534 - val_accuracy: 0.9045\n",
      "Epoch 3/4\n",
      "358/358 [==============================] - 1494s 4s/step - loss: 0.3648 - accuracy: 0.8676 - val_loss: 0.3082 - val_accuracy: 0.8895\n",
      "Epoch 4/4\n",
      "358/358 [==============================] - 1431s 4s/step - loss: 0.2838 - accuracy: 0.8941 - val_loss: 0.1202 - val_accuracy: 0.9544\n",
      "Minutes taken = 95.67590473890304\n"
     ]
    }
   ],
   "source": [
    "# initial parameters\n",
    "epochs_initial = 4\n",
    "step_size_train_initial=train_generator_initial.n//train_generator_initial.batch_size # computing the steps size per epoch\n",
    "\n",
    "tic = time.time()\n",
    "# fit the model\n",
    "r = model.fit_generator(generator=train_generator_initial,\n",
    "                        validation_data=val_generator_initial,\n",
    "                        steps_per_epoch=step_size_train_initial,\n",
    "                        epochs=epochs_initial)\n",
    "\n",
    "toc = time.time()\n",
    "print(\"Minutes taken = \" + str((toc-tic)/60.0))"
   ]
  },
  {
   "cell_type": "markdown",
   "metadata": {
    "id": "osNszxOBxT_7"
   },
   "source": [
    "# **Evaluate the model**"
   ]
  },
  {
   "cell_type": "code",
   "execution_count": null,
   "metadata": {
    "id": "8IJCbjp_xT_7",
    "outputId": "17bc486d-1d57-4e4e-af99-e068cf195cc4"
   },
   "outputs": [
    {
     "name": "stdout",
     "output_type": "stream",
     "text": [
      "359/359 [==============================] - 621s 2s/step - loss: 0.1202 - accuracy: 0.9544\n",
      "evaluate accuracy: 95.44%\n"
     ]
    }
   ],
   "source": [
    "# evaluation on validation data\n",
    "scores = model.evaluate(val_generator_initial)\n",
    "print(\"%s%s: %.2f%%\" % (\"evaluate \",model.metrics_names[1], scores[1]*100))\n"
   ]
  },
  {
   "cell_type": "markdown",
   "metadata": {
    "id": "4lu9VEqIxT_8"
   },
   "source": [
    "# **Section two:** We will start fine tunning\n",
    "\n",
    "## **Tunning optimizers of the model**"
   ]
  },
  {
   "cell_type": "code",
   "execution_count": null,
   "metadata": {
    "colab": {
     "referenced_widgets": [
      "2c71d6e5c6034e9c9b21a522e97b9281"
     ]
    },
    "id": "ZqoG4Cn-xT_8",
    "outputId": "9e47865b-4057-40ca-8d48-15ef8b84f4e3"
   },
   "outputs": [
    {
     "data": {
      "application/vnd.jupyter.widget-view+json": {
       "model_id": "2c71d6e5c6034e9c9b21a522e97b9281",
       "version_major": 2,
       "version_minor": 0
      },
      "text/plain": [
       "HBox(children=(HTML(value=''), FloatProgress(value=0.0, max=5.0), HTML(value='')))"
      ]
     },
     "metadata": {},
     "output_type": "display_data"
    },
    {
     "name": "stdout",
     "output_type": "stream",
     "text": [
      "Epoch 1/4\n",
      "358/358 [==============================] - 1339s 4s/step - loss: 2.5084 - accuracy: 0.6908 - val_loss: 0.4476 - val_accuracy: 0.8220\n",
      "Epoch 2/4\n",
      "358/358 [==============================] - 1317s 4s/step - loss: 0.4882 - accuracy: 0.8281 - val_loss: 0.2847 - val_accuracy: 0.8815\n",
      "Epoch 3/4\n",
      "358/358 [==============================] - 1329s 4s/step - loss: 0.3549 - accuracy: 0.8742 - val_loss: 0.2113 - val_accuracy: 0.9174\n",
      "Epoch 4/4\n",
      "358/358 [==============================] - 1334s 4s/step - loss: 0.2783 - accuracy: 0.8973 - val_loss: 0.5367 - val_accuracy: 0.8749\n",
      "359/359 [==============================] - 613s 2s/step - loss: 0.5367 - accuracy: 0.8749\n",
      "Epoch 1/4\n",
      "358/358 [==============================] - 1294s 4s/step - loss: 0.8377 - accuracy: 0.6663 - val_loss: 0.5529 - val_accuracy: 0.7780\n",
      "Epoch 2/4\n",
      "358/358 [==============================] - 1304s 4s/step - loss: 0.4519 - accuracy: 0.8180 - val_loss: 0.3014 - val_accuracy: 0.8812\n",
      "Epoch 3/4\n",
      "358/358 [==============================] - 1298s 4s/step - loss: 0.3445 - accuracy: 0.8648 - val_loss: 0.2320 - val_accuracy: 0.9080\n",
      "Epoch 4/4\n",
      "358/358 [==============================] - 1324s 4s/step - loss: 0.2578 - accuracy: 0.9036 - val_loss: 0.2949 - val_accuracy: 0.8780\n",
      "359/359 [==============================] - 639s 2s/step - loss: 0.2949 - accuracy: 0.8780\n",
      "Epoch 1/4\n",
      "358/358 [==============================] - 1636s 5s/step - loss: 5.7865 - accuracy: 0.5975 - val_loss: 1.1571 - val_accuracy: 0.7087\n",
      "Epoch 2/4\n",
      "358/358 [==============================] - 1645s 5s/step - loss: 0.7259 - accuracy: 0.7813 - val_loss: 0.4371 - val_accuracy: 0.8561\n",
      "Epoch 3/4\n",
      "358/358 [==============================] - 1619s 5s/step - loss: 0.6020 - accuracy: 0.8340 - val_loss: 0.6526 - val_accuracy: 0.7819\n",
      "Epoch 4/4\n",
      "358/358 [==============================] - 1604s 4s/step - loss: 0.5373 - accuracy: 0.8414 - val_loss: 0.2929 - val_accuracy: 0.8791\n",
      "359/359 [==============================] - 646s 2s/step - loss: 0.2929 - accuracy: 0.8791\n",
      "Epoch 1/4\n",
      "358/358 [==============================] - 1401s 4s/step - loss: 0.6773 - accuracy: 0.7233 - val_loss: 0.3400 - val_accuracy: 0.8746\n",
      "Epoch 2/4\n",
      "358/358 [==============================] - 1375s 4s/step - loss: 0.3716 - accuracy: 0.8595 - val_loss: 0.2172 - val_accuracy: 0.9216\n",
      "Epoch 3/4\n",
      "358/358 [==============================] - 1354s 4s/step - loss: 0.2576 - accuracy: 0.8959 - val_loss: 0.1697 - val_accuracy: 0.9324\n",
      "Epoch 4/4\n",
      "358/358 [==============================] - 1355s 4s/step - loss: 0.1901 - accuracy: 0.9315 - val_loss: 0.1756 - val_accuracy: 0.9303\n",
      "359/359 [==============================] - 630s 2s/step - loss: 0.1756 - accuracy: 0.9303\n",
      "Epoch 1/4\n",
      "358/358 [==============================] - 1420s 4s/step - loss: 0.8166 - accuracy: 0.6869 - val_loss: 0.5055 - val_accuracy: 0.8237\n",
      "Epoch 2/4\n",
      "358/358 [==============================] - 1369s 4s/step - loss: 0.4994 - accuracy: 0.8124 - val_loss: 0.3684 - val_accuracy: 0.8739\n",
      "Epoch 3/4\n",
      "358/358 [==============================] - 1363s 4s/step - loss: 0.3879 - accuracy: 0.8732 - val_loss: 0.2866 - val_accuracy: 0.9084\n",
      "Epoch 4/4\n",
      "358/358 [==============================] - 1392s 4s/step - loss: 0.3271 - accuracy: 0.8885 - val_loss: 0.2368 - val_accuracy: 0.9293\n",
      "359/359 [==============================] - 630s 2s/step - loss: 0.2368 - accuracy: 0.9293\n",
      "\n",
      "Minutes taken = 520.6418586293856\n"
     ]
    },
    {
     "data": {
      "text/html": [
       "<div>\n",
       "<style scoped>\n",
       "    .dataframe tbody tr th:only-of-type {\n",
       "        vertical-align: middle;\n",
       "    }\n",
       "\n",
       "    .dataframe tbody tr th {\n",
       "        vertical-align: top;\n",
       "    }\n",
       "\n",
       "    .dataframe thead th {\n",
       "        text-align: right;\n",
       "    }\n",
       "</style>\n",
       "<table border=\"1\" class=\"dataframe\">\n",
       "  <thead>\n",
       "    <tr style=\"text-align: right;\">\n",
       "      <th></th>\n",
       "      <th>optimizer</th>\n",
       "      <th>accuracy</th>\n",
       "    </tr>\n",
       "  </thead>\n",
       "  <tbody>\n",
       "    <tr>\n",
       "      <th>0</th>\n",
       "      <td>Adam</td>\n",
       "      <td>87.491292</td>\n",
       "    </tr>\n",
       "    <tr>\n",
       "      <th>1</th>\n",
       "      <td>SGD</td>\n",
       "      <td>87.804878</td>\n",
       "    </tr>\n",
       "    <tr>\n",
       "      <th>2</th>\n",
       "      <td>RMSprop</td>\n",
       "      <td>87.909406</td>\n",
       "    </tr>\n",
       "    <tr>\n",
       "      <th>3</th>\n",
       "      <td>Adagrad</td>\n",
       "      <td>93.031359</td>\n",
       "    </tr>\n",
       "    <tr>\n",
       "      <th>4</th>\n",
       "      <td>Adadelta</td>\n",
       "      <td>92.926830</td>\n",
       "    </tr>\n",
       "  </tbody>\n",
       "</table>\n",
       "</div>"
      ],
      "text/plain": [
       "  optimizer   accuracy\n",
       "0      Adam  87.491292\n",
       "1       SGD  87.804878\n",
       "2   RMSprop  87.909406\n",
       "3   Adagrad  93.031359\n",
       "4  Adadelta  92.926830"
      ]
     },
     "execution_count": 21,
     "metadata": {},
     "output_type": "execute_result"
    }
   ],
   "source": [
    "param_label = 'optimizer'\n",
    "param_list = ['Adam', 'SGD', 'RMSprop', 'Adagrad', 'Adadelta'] # ['Adam', 'SGD', 'RMSprop', 'Adagrad', 'Adadelta']\n",
    "\n",
    "accuracy_table = {param_label: [], 'accuracy': []}\n",
    "tic = time.time()\n",
    "for param in tqdm.tqdm_notebook(param_list):\n",
    "    # Train, and evaluate model\n",
    "    accuracy, _ = train_evaluate_the_model(train_generator_initial,val_generator_initial,param,epochs_initial,dropout_value_initial,efnB7_basemodel) # replace epochs with 'epochs_initial'\n",
    "    \n",
    "    # Collect results\n",
    "    accuracy_table[param_label].append(param)\n",
    "    accuracy_table['accuracy'].append(accuracy)\n",
    "    \n",
    "accuracy_table = pd.DataFrame(accuracy_table) # convert the table to a dataframe\n",
    "toc = time.time()\n",
    "print(\"Minutes taken = \" + str((toc-tic)/60.0))\n",
    "accuracy_table # display the resullts"
   ]
  },
  {
   "cell_type": "code",
   "execution_count": null,
   "metadata": {
    "id": "TTbajds9xT_9",
    "outputId": "65a219ed-40df-4c11-9bec-ac2a70b787e3"
   },
   "outputs": [
    {
     "data": {
      "text/plain": [
       "Text(0, 0.5, 'accuracy)')"
      ]
     },
     "execution_count": 22,
     "metadata": {},
     "output_type": "execute_result"
    },
    {
     "data": {
      "image/png": "[encoded data removed]",
      "text/plain": [
       "<Figure size 720x576 with 1 Axes>"
      ]
     },
     "metadata": {
      "needs_background": "light"
     },
     "output_type": "display_data"
    }
   ],
   "source": [
    "from pylab import rcParams\n",
    "\n",
    "# plot results\n",
    "rcParams['figure.figsize'] = 10,8 # width 10, height 8\n",
    "\n",
    "ax = accuracy_table.plot(x='optimizer', y='accuracy',style='bx-', grid=True)\n",
    "ax.set_xlabel(\"Optimizer\")\n",
    "ax.set_ylabel(\"accuracy)\")"
   ]
  },
  {
   "cell_type": "code",
   "execution_count": null,
   "metadata": {
    "id": "bjEpuhxMxT_9",
    "outputId": "8a122479-18bb-4986-9147-94df42f34f86"
   },
   "outputs": [
    {
     "name": "stdout",
     "output_type": "stream",
     "text": [
      "max Accuracy = 93.031\n",
      "optimum optimizer = Adagrad\n"
     ]
    }
   ],
   "source": [
    "# Get optimum value for param\n",
    "temp = accuracy_table[accuracy_table['accuracy'] == accuracy_table['accuracy'].max()]\n",
    "optimizer_opt = temp[param_label].values[0]\n",
    "print(\"max Accuracy = %0.3f\" % accuracy_table['accuracy'].max())\n",
    "print(\"optimum \" + param_label + \" = \" + str(optimizer_opt))"
   ]
  },
  {
   "cell_type": "markdown",
   "metadata": {
    "id": "owlCeUuFxT_-"
   },
   "source": [
    "# **Tunning dropout of the model**"
   ]
  },
  {
   "cell_type": "code",
   "execution_count": null,
   "metadata": {
    "colab": {
     "referenced_widgets": [
      "9db9ef6d0eca4967aec5c952ee09bf8a"
     ]
    },
    "id": "us-U37tsxT_-",
    "outputId": "1b35d7f5-a8f5-4229-e147-8ad84a2129bd"
   },
   "outputs": [
    {
     "data": {
      "application/vnd.jupyter.widget-view+json": {
       "model_id": "9db9ef6d0eca4967aec5c952ee09bf8a",
       "version_major": 2,
       "version_minor": 0
      },
      "text/plain": [
       "HBox(children=(HTML(value=''), FloatProgress(value=0.0, max=5.0), HTML(value='')))"
      ]
     },
     "metadata": {},
     "output_type": "display_data"
    },
    {
     "name": "stderr",
     "output_type": "stream",
     "text": [
      "C:\\Users\\Student\\anaconda_3\\lib\\site-packages\\tensorflow\\python\\keras\\engine\\training.py:1940: UserWarning: `Model.fit_generator` is deprecated and will be removed in a future version. Please use `Model.fit`, which supports generators.\n",
      "  warnings.warn('`Model.fit_generator` is deprecated and '\n"
     ]
    },
    {
     "name": "stdout",
     "output_type": "stream",
     "text": [
      "Epoch 1/4\n",
      "358/358 [==============================] - 1345s 4s/step - loss: 3.2620 - accuracy: 0.6565 - val_loss: 0.5753 - val_accuracy: 0.8024\n",
      "Epoch 2/4\n",
      "358/358 [==============================] - 1303s 4s/step - loss: 0.5616 - accuracy: 0.7949 - val_loss: 0.3743 - val_accuracy: 0.8585\n",
      "Epoch 3/4\n",
      "358/358 [==============================] - 1302s 4s/step - loss: 0.3792 - accuracy: 0.8627 - val_loss: 0.2664 - val_accuracy: 0.8962\n",
      "Epoch 4/4\n",
      "358/358 [==============================] - 1307s 4s/step - loss: 0.3954 - accuracy: 0.8620 - val_loss: 0.3597 - val_accuracy: 0.8864\n",
      "359/359 [==============================] - 600s 2s/step - loss: 0.3597 - accuracy: 0.8864\n",
      "Epoch 1/4\n",
      "358/358 [==============================] - 1240s 3s/step - loss: 3.4531 - accuracy: 0.6359 - val_loss: 0.5186 - val_accuracy: 0.8230\n",
      "Epoch 2/4\n",
      "358/358 [==============================] - 1216s 3s/step - loss: 0.5781 - accuracy: 0.7928 - val_loss: 0.3659 - val_accuracy: 0.8617\n",
      "Epoch 3/4\n",
      "358/358 [==============================] - 1217s 3s/step - loss: 0.4623 - accuracy: 0.8417 - val_loss: 0.3268 - val_accuracy: 0.8972\n",
      "Epoch 4/4\n",
      "358/358 [==============================] - 1220s 3s/step - loss: 0.3925 - accuracy: 0.8655 - val_loss: 0.2433 - val_accuracy: 0.8962\n",
      "359/359 [==============================] - 557s 2s/step - loss: 0.2433 - accuracy: 0.8962\n",
      "Epoch 1/4\n",
      "358/358 [==============================] - 1353s 4s/step - loss: 4.4965 - accuracy: 0.5699 - val_loss: 0.7670 - val_accuracy: 0.6746\n",
      "Epoch 2/4\n",
      "358/358 [==============================] - 1332s 4s/step - loss: 0.7271 - accuracy: 0.7320 - val_loss: 0.4393 - val_accuracy: 0.8268\n",
      "Epoch 3/4\n",
      "358/358 [==============================] - 1340s 4s/step - loss: 0.6005 - accuracy: 0.7837 - val_loss: 0.4427 - val_accuracy: 0.8286\n",
      "Epoch 4/4\n",
      "358/358 [==============================] - 1350s 4s/step - loss: 0.4855 - accuracy: 0.8319 - val_loss: 0.3842 - val_accuracy: 0.8348\n",
      "359/359 [==============================] - 596s 2s/step - loss: 0.3842 - accuracy: 0.8348\n",
      "Epoch 1/4\n",
      "358/358 [==============================] - 1430s 4s/step - loss: 5.7433 - accuracy: 0.5611 - val_loss: 0.5523 - val_accuracy: 0.8094\n",
      "Epoch 2/4\n",
      "358/358 [==============================] - 1376s 4s/step - loss: 0.7385 - accuracy: 0.7638 - val_loss: 0.3943 - val_accuracy: 0.8516\n",
      "Epoch 3/4\n",
      "358/358 [==============================] - 1483s 4s/step - loss: 0.5969 - accuracy: 0.8064 - val_loss: 0.5374 - val_accuracy: 0.7969\n",
      "Epoch 4/4\n",
      "358/358 [==============================] - 1553s 4s/step - loss: 0.4714 - accuracy: 0.8449 - val_loss: 0.3470 - val_accuracy: 0.8808\n",
      "359/359 [==============================] - 721s 2s/step - loss: 0.3470 - accuracy: 0.8808\n",
      "Epoch 1/4\n",
      "358/358 [==============================] - 1590s 4s/step - loss: 9.7914 - accuracy: 0.4071 - val_loss: 1.2320 - val_accuracy: 0.5003\n",
      "Epoch 2/4\n",
      "358/358 [==============================] - 1509s 4s/step - loss: 1.2089 - accuracy: 0.4675 - val_loss: 0.9424 - val_accuracy: 0.5557\n",
      "Epoch 3/4\n",
      "358/358 [==============================] - 1545s 4s/step - loss: 1.1041 - accuracy: 0.4836 - val_loss: 0.9350 - val_accuracy: 0.5554\n",
      "Epoch 4/4\n",
      "358/358 [==============================] - 1487s 4s/step - loss: 1.0982 - accuracy: 0.5049 - val_loss: 0.9019 - val_accuracy: 0.5777\n",
      "359/359 [==============================] - 672s 2s/step - loss: 0.9019 - accuracy: 0.5777\n",
      "\n",
      "Minutes taken = 510.8875221014023\n"
     ]
    },
    {
     "data": {
      "text/html": [
       "<div>\n",
       "<style scoped>\n",
       "    .dataframe tbody tr th:only-of-type {\n",
       "        vertical-align: middle;\n",
       "    }\n",
       "\n",
       "    .dataframe tbody tr th {\n",
       "        vertical-align: top;\n",
       "    }\n",
       "\n",
       "    .dataframe thead th {\n",
       "        text-align: right;\n",
       "    }\n",
       "</style>\n",
       "<table border=\"1\" class=\"dataframe\">\n",
       "  <thead>\n",
       "    <tr style=\"text-align: right;\">\n",
       "      <th></th>\n",
       "      <th>dropout_prob</th>\n",
       "      <th>accuracy</th>\n",
       "    </tr>\n",
       "  </thead>\n",
       "  <tbody>\n",
       "    <tr>\n",
       "      <th>0</th>\n",
       "      <td>0.5</td>\n",
       "      <td>88.641113</td>\n",
       "    </tr>\n",
       "    <tr>\n",
       "      <th>1</th>\n",
       "      <td>0.6</td>\n",
       "      <td>89.616722</td>\n",
       "    </tr>\n",
       "    <tr>\n",
       "      <th>2</th>\n",
       "      <td>0.7</td>\n",
       "      <td>83.484322</td>\n",
       "    </tr>\n",
       "    <tr>\n",
       "      <th>3</th>\n",
       "      <td>0.8</td>\n",
       "      <td>88.083625</td>\n",
       "    </tr>\n",
       "    <tr>\n",
       "      <th>4</th>\n",
       "      <td>0.9</td>\n",
       "      <td>57.770038</td>\n",
       "    </tr>\n",
       "  </tbody>\n",
       "</table>\n",
       "</div>"
      ],
      "text/plain": [
       "   dropout_prob   accuracy\n",
       "0           0.5  88.641113\n",
       "1           0.6  89.616722\n",
       "2           0.7  83.484322\n",
       "3           0.8  88.083625\n",
       "4           0.9  57.770038"
      ]
     },
     "execution_count": 8,
     "metadata": {},
     "output_type": "execute_result"
    }
   ],
   "source": [
    "param_label = 'dropout_prob'\n",
    "param_list = [0.5, 0.6, 0.7, 0.8, 0.9]\n",
    "\n",
    "\n",
    "accuracy_table = {param_label: [], 'accuracy': []}\n",
    "tic = time.time()\n",
    "for param in tqdm.tqdm_notebook(param_list):\n",
    "    # Train, predict and evaluate model\n",
    "    accuracy, _ = train_evaluate_the_model(train_generator_initial,val_generator_initial,optimizer_initial,epochs_initial,param,efnB7_basemodel) # replace epochs with 'epochs_initial'\n",
    "    \n",
    "    # Collect results\n",
    "    accuracy_table[param_label].append(param)\n",
    "    accuracy_table['accuracy'].append(accuracy)\n",
    "    \n",
    "accuracy_table = pd.DataFrame(accuracy_table) # convert the table to a dataframe\n",
    "toc = time.time()\n",
    "print(\"Minutes taken = \" + str((toc-tic)/60.0))\n",
    "accuracy_table # display the resullts"
   ]
  },
  {
   "cell_type": "code",
   "execution_count": null,
   "metadata": {
    "id": "zHnRtqZcxT__",
    "outputId": "66c817ce-9985-46bc-cefe-40a730605c17"
   },
   "outputs": [
    {
     "data": {
      "text/plain": [
       "Text(0, 0.5, 'accuracy)')"
      ]
     },
     "execution_count": 9,
     "metadata": {},
     "output_type": "execute_result"
    },
    {
     "data": {
      "image/png": "[encoded data removed]",
      "text/plain": [
       "<Figure size 720x576 with 1 Axes>"
      ]
     },
     "metadata": {
      "needs_background": "light"
     },
     "output_type": "display_data"
    }
   ],
   "source": [
    "from pylab import rcParams\n",
    "\n",
    "# plot results\n",
    "rcParams['figure.figsize'] = 10,8 # width 10, height 8\n",
    "\n",
    "ax = accuracy_table.plot(x='dropout_prob', y='accuracy',style='bx-', grid=True)\n",
    "ax.set_xlabel(\"dropout_prob\")\n",
    "ax.set_ylabel(\"accuracy)\")"
   ]
  },
  {
   "cell_type": "code",
   "execution_count": null,
   "metadata": {
    "id": "P2Yqm9dTxT__",
    "outputId": "6b3a79bc-eb13-4f1d-a59e-8d0211de928b"
   },
   "outputs": [
    {
     "name": "stdout",
     "output_type": "stream",
     "text": [
      "max Accuracy = 89.617\n",
      "optimum dropout_prob = 0.6\n"
     ]
    }
   ],
   "source": [
    "# Get optimum value for param\n",
    "temp = accuracy_table[accuracy_table['accuracy'] == accuracy_table['accuracy'].max()]\n",
    "dropout_opt = temp[param_label].values[0]\n",
    "print(\"max Accuracy = %0.3f\" % accuracy_table['accuracy'].max())\n",
    "print(\"optimum \" + param_label + \" = \" + str(dropout_opt))"
   ]
  },
  {
   "cell_type": "markdown",
   "metadata": {
    "id": "NBMp1AzIxT__"
   },
   "source": [
    "# **Tuning batch size and epochs of the model**"
   ]
  },
  {
   "cell_type": "code",
   "execution_count": null,
   "metadata": {
    "colab": {
     "referenced_widgets": [
      "a8d0338a9bdf4222aa4371310e2608e6",
      "6071ca601d6e42d496136261a15c67b7",
      "c00e239f2ae44be5b9c6b9f09812ec23",
      "2a74df1067de4f5b9830caea9263a887",
      "0af777a103a24587a66ee43fae1c02f2"
     ]
    },
    "id": "dWhKXq5ZxT__",
    "outputId": "15745200-5747-4c83-c3d0-84f5633eadc0"
   },
   "outputs": [
    {
     "data": {
      "application/vnd.jupyter.widget-view+json": {
       "model_id": "a8d0338a9bdf4222aa4371310e2608e6",
       "version_major": 2,
       "version_minor": 0
      },
      "text/plain": [
       "HBox(children=(HTML(value=''), FloatProgress(value=0.0, max=4.0), HTML(value='')))"
      ]
     },
     "metadata": {},
     "output_type": "display_data"
    },
    {
     "name": "stderr",
     "output_type": "stream",
     "text": [
      "<ipython-input-13-222ed610b3e2>:12: TqdmDeprecationWarning: This function will be removed in tqdm==5.0.0\n",
      "Please use `tqdm.notebook.tqdm` instead of `tqdm.tqdm_notebook`\n",
      "  for param2 in tqdm_notebook(param2_list):\n"
     ]
    },
    {
     "data": {
      "application/vnd.jupyter.widget-view+json": {
       "model_id": "6071ca601d6e42d496136261a15c67b7",
       "version_major": 2,
       "version_minor": 0
      },
      "text/plain": [
       "HBox(children=(HTML(value=''), FloatProgress(value=0.0, max=2.0), HTML(value='')))"
      ]
     },
     "metadata": {},
     "output_type": "display_data"
    },
    {
     "name": "stdout",
     "output_type": "stream",
     "text": [
      "Found 2870 images belonging to 4 classes.\n",
      "Found 2870 images belonging to 4 classes.\n",
      "Found 394 images belonging to 4 classes.\n"
     ]
    },
    {
     "name": "stderr",
     "output_type": "stream",
     "text": [
      "C:\\Users\\Student\\anaconda_3\\lib\\site-packages\\tensorflow\\python\\keras\\engine\\training.py:1940: UserWarning: `Model.fit_generator` is deprecated and will be removed in a future version. Please use `Model.fit`, which supports generators.\n",
      "  warnings.warn('`Model.fit_generator` is deprecated and '\n"
     ]
    },
    {
     "name": "stdout",
     "output_type": "stream",
     "text": [
      "358/358 [==============================] - 1394s 4s/step - loss: 3.3703 - accuracy: 0.6499 - val_loss: 0.5212 - val_accuracy: 0.8254\n",
      "359/359 [==============================] - 620s 2s/step - loss: 0.5212 - accuracy: 0.8254\n",
      "Found 2870 images belonging to 4 classes.\n",
      "Found 2870 images belonging to 4 classes.\n",
      "Found 394 images belonging to 4 classes.\n",
      "179/179 [==============================] - 1290s 7s/step - loss: 4.3520 - accuracy: 0.6433 - val_loss: 0.5190 - val_accuracy: 0.7955\n",
      "180/180 [==============================] - 598s 3s/step - loss: 0.5190 - accuracy: 0.7955\n",
      "\n"
     ]
    },
    {
     "data": {
      "application/vnd.jupyter.widget-view+json": {
       "model_id": "c00e239f2ae44be5b9c6b9f09812ec23",
       "version_major": 2,
       "version_minor": 0
      },
      "text/plain": [
       "HBox(children=(HTML(value=''), FloatProgress(value=0.0, max=2.0), HTML(value='')))"
      ]
     },
     "metadata": {},
     "output_type": "display_data"
    },
    {
     "name": "stdout",
     "output_type": "stream",
     "text": [
      "Found 2870 images belonging to 4 classes.\n",
      "Found 2870 images belonging to 4 classes.\n",
      "Found 394 images belonging to 4 classes.\n",
      "Epoch 1/2\n",
      "358/358 [==============================] - 1371s 4s/step - loss: 3.2866 - accuracy: 0.6408 - val_loss: 0.5142 - val_accuracy: 0.8007\n",
      "Epoch 2/2\n",
      "358/358 [==============================] - 1367s 4s/step - loss: 0.5681 - accuracy: 0.7883 - val_loss: 0.3039 - val_accuracy: 0.8937\n",
      "359/359 [==============================] - 628s 2s/step - loss: 0.3039 - accuracy: 0.8937\n",
      "Found 2870 images belonging to 4 classes.\n",
      "Found 2870 images belonging to 4 classes.\n",
      "Found 394 images belonging to 4 classes.\n",
      "Epoch 1/2\n",
      "179/179 [==============================] - 1294s 7s/step - loss: 4.6496 - accuracy: 0.6503 - val_loss: 0.5415 - val_accuracy: 0.7596\n",
      "Epoch 2/2\n",
      "179/179 [==============================] - 1265s 7s/step - loss: 0.5198 - accuracy: 0.8066 - val_loss: 0.2805 - val_accuracy: 0.8948\n",
      "180/180 [==============================] - 602s 3s/step - loss: 0.2805 - accuracy: 0.8948\n",
      "\n"
     ]
    },
    {
     "data": {
      "application/vnd.jupyter.widget-view+json": {
       "model_id": "2a74df1067de4f5b9830caea9263a887",
       "version_major": 2,
       "version_minor": 0
      },
      "text/plain": [
       "HBox(children=(HTML(value=''), FloatProgress(value=0.0, max=2.0), HTML(value='')))"
      ]
     },
     "metadata": {},
     "output_type": "display_data"
    },
    {
     "name": "stdout",
     "output_type": "stream",
     "text": [
      "Found 2870 images belonging to 4 classes.\n",
      "Found 2870 images belonging to 4 classes.\n",
      "Found 394 images belonging to 4 classes.\n",
      "Epoch 1/5\n",
      "358/358 [==============================] - 1420s 4s/step - loss: 3.1804 - accuracy: 0.6663 - val_loss: 0.4951 - val_accuracy: 0.8125\n",
      "Epoch 2/5\n",
      "358/358 [==============================] - 1388s 4s/step - loss: 0.5633 - accuracy: 0.8078 - val_loss: 0.3516 - val_accuracy: 0.8746\n",
      "Epoch 3/5\n",
      "358/358 [==============================] - 1383s 4s/step - loss: 0.3921 - accuracy: 0.8585 - val_loss: 0.2836 - val_accuracy: 0.8913\n",
      "Epoch 4/5\n",
      "358/358 [==============================] - 1384s 4s/step - loss: 0.3123 - accuracy: 0.8871 - val_loss: 0.1842 - val_accuracy: 0.9286\n",
      "Epoch 5/5\n",
      "358/358 [==============================] - 1379s 4s/step - loss: 0.3163 - accuracy: 0.8973 - val_loss: 0.1391 - val_accuracy: 0.9554\n",
      "359/359 [==============================] - 630s 2s/step - loss: 0.1391 - accuracy: 0.9554\n",
      "Found 2870 images belonging to 4 classes.\n",
      "Found 2870 images belonging to 4 classes.\n",
      "Found 394 images belonging to 4 classes.\n",
      "Epoch 1/5\n",
      "179/179 [==============================] - 1248s 7s/step - loss: 3.9963 - accuracy: 0.6440 - val_loss: 0.4225 - val_accuracy: 0.8341\n",
      "Epoch 2/5\n",
      "179/179 [==============================] - 1240s 7s/step - loss: 0.5333 - accuracy: 0.7933 - val_loss: 0.3224 - val_accuracy: 0.8843\n",
      "Epoch 3/5\n",
      "179/179 [==============================] - 1251s 7s/step - loss: 0.4186 - accuracy: 0.8525 - val_loss: 0.2204 - val_accuracy: 0.9240\n",
      "Epoch 4/5\n",
      "179/179 [==============================] - 1255s 7s/step - loss: 0.3166 - accuracy: 0.8847 - val_loss: 0.1569 - val_accuracy: 0.9422\n",
      "Epoch 5/5\n",
      "179/179 [==============================] - 1257s 7s/step - loss: 0.2574 - accuracy: 0.9075 - val_loss: 0.1247 - val_accuracy: 0.9491\n",
      "180/180 [==============================] - 600s 3s/step - loss: 0.1247 - accuracy: 0.9491\n",
      "\n"
     ]
    },
    {
     "data": {
      "application/vnd.jupyter.widget-view+json": {
       "model_id": "0af777a103a24587a66ee43fae1c02f2",
       "version_major": 2,
       "version_minor": 0
      },
      "text/plain": [
       "HBox(children=(HTML(value=''), FloatProgress(value=0.0, max=2.0), HTML(value='')))"
      ]
     },
     "metadata": {},
     "output_type": "display_data"
    },
    {
     "name": "stdout",
     "output_type": "stream",
     "text": [
      "Found 2870 images belonging to 4 classes.\n",
      "Found 2870 images belonging to 4 classes.\n",
      "Found 394 images belonging to 4 classes.\n",
      "Epoch 1/10\n",
      "358/358 [==============================] - 1431s 4s/step - loss: 3.3611 - accuracy: 0.6419 - val_loss: 0.6146 - val_accuracy: 0.7265\n",
      "Epoch 2/10\n",
      "358/358 [==============================] - 1425s 4s/step - loss: 0.6329 - accuracy: 0.7771 - val_loss: 0.3551 - val_accuracy: 0.8662\n",
      "Epoch 3/10\n",
      "358/358 [==============================] - 1404s 4s/step - loss: 0.4571 - accuracy: 0.8421 - val_loss: 0.4095 - val_accuracy: 0.8561\n",
      "Epoch 4/10\n",
      "358/358 [==============================] - 1405s 4s/step - loss: 0.4033 - accuracy: 0.8679 - val_loss: 0.2233 - val_accuracy: 0.9118\n",
      "Epoch 5/10\n",
      "358/358 [==============================] - 1408s 4s/step - loss: 0.3438 - accuracy: 0.8847 - val_loss: 0.2563 - val_accuracy: 0.9105\n",
      "Epoch 6/10\n",
      "358/358 [==============================] - 1406s 4s/step - loss: 0.2772 - accuracy: 0.9039 - val_loss: 0.1500 - val_accuracy: 0.9449\n",
      "Epoch 7/10\n",
      "358/358 [==============================] - 1406s 4s/step - loss: 0.2436 - accuracy: 0.9214 - val_loss: 0.1583 - val_accuracy: 0.9474\n",
      "Epoch 8/10\n",
      "358/358 [==============================] - 1405s 4s/step - loss: 0.3528 - accuracy: 0.8980 - val_loss: 0.2701 - val_accuracy: 0.9108\n",
      "Epoch 9/10\n",
      "358/358 [==============================] - 1405s 4s/step - loss: 0.3035 - accuracy: 0.9168 - val_loss: 0.2153 - val_accuracy: 0.9443\n",
      "Epoch 10/10\n",
      "358/358 [==============================] - 1407s 4s/step - loss: 0.2224 - accuracy: 0.9333 - val_loss: 0.1514 - val_accuracy: 0.9505\n",
      "359/359 [==============================] - 642s 2s/step - loss: 0.1514 - accuracy: 0.9505\n",
      "Found 2870 images belonging to 4 classes.\n",
      "Found 2870 images belonging to 4 classes.\n",
      "Found 394 images belonging to 4 classes.\n",
      "Epoch 1/10\n",
      "179/179 [==============================] - 1297s 7s/step - loss: 4.3885 - accuracy: 0.6345 - val_loss: 0.4073 - val_accuracy: 0.8495\n",
      "Epoch 2/10\n",
      "179/179 [==============================] - 1275s 7s/step - loss: 0.5320 - accuracy: 0.8069 - val_loss: 0.2999 - val_accuracy: 0.8951\n",
      "Epoch 3/10\n",
      "179/179 [==============================] - 1264s 7s/step - loss: 0.4459 - accuracy: 0.8441 - val_loss: 0.2280 - val_accuracy: 0.9143\n",
      "Epoch 4/10\n",
      "179/179 [==============================] - 1264s 7s/step - loss: 0.3292 - accuracy: 0.8819 - val_loss: 0.2556 - val_accuracy: 0.9073\n",
      "Epoch 5/10\n",
      "179/179 [==============================] - 1258s 7s/step - loss: 0.2884 - accuracy: 0.8966 - val_loss: 0.1549 - val_accuracy: 0.9488\n",
      "Epoch 6/10\n",
      "179/179 [==============================] - 1260s 7s/step - loss: 0.2260 - accuracy: 0.9236 - val_loss: 0.1906 - val_accuracy: 0.9272\n",
      "Epoch 7/10\n",
      "179/179 [==============================] - 1269s 7s/step - loss: 0.1960 - accuracy: 0.9320 - val_loss: 0.1484 - val_accuracy: 0.9425\n",
      "Epoch 8/10\n",
      "179/179 [==============================] - 1292s 7s/step - loss: 0.1685 - accuracy: 0.9425 - val_loss: 0.1181 - val_accuracy: 0.9578\n",
      "Epoch 9/10\n",
      "179/179 [==============================] - 1296s 7s/step - loss: 0.1806 - accuracy: 0.9366 - val_loss: 0.2464 - val_accuracy: 0.9233\n",
      "Epoch 10/10\n",
      "179/179 [==============================] - 1305s 7s/step - loss: 0.1912 - accuracy: 0.9376 - val_loss: 0.0814 - val_accuracy: 0.9777\n",
      "180/180 [==============================] - 623s 3s/step - loss: 0.0814 - accuracy: 0.9777\n",
      "\n",
      "\n",
      "Minutes taken = 883.7356922189394\n"
     ]
    },
    {
     "data": {
      "text/html": [
       "<div>\n",
       "<style scoped>\n",
       "    .dataframe tbody tr th:only-of-type {\n",
       "        vertical-align: middle;\n",
       "    }\n",
       "\n",
       "    .dataframe tbody tr th {\n",
       "        vertical-align: top;\n",
       "    }\n",
       "\n",
       "    .dataframe thead th {\n",
       "        text-align: right;\n",
       "    }\n",
       "</style>\n",
       "<table border=\"1\" class=\"dataframe\">\n",
       "  <thead>\n",
       "    <tr style=\"text-align: right;\">\n",
       "      <th></th>\n",
       "      <th>epochs</th>\n",
       "      <th>batch_size</th>\n",
       "      <th>accuracy</th>\n",
       "    </tr>\n",
       "  </thead>\n",
       "  <tbody>\n",
       "    <tr>\n",
       "      <th>0</th>\n",
       "      <td>1</td>\n",
       "      <td>8</td>\n",
       "      <td>82.543552</td>\n",
       "    </tr>\n",
       "    <tr>\n",
       "      <th>1</th>\n",
       "      <td>1</td>\n",
       "      <td>16</td>\n",
       "      <td>79.547036</td>\n",
       "    </tr>\n",
       "    <tr>\n",
       "      <th>2</th>\n",
       "      <td>2</td>\n",
       "      <td>8</td>\n",
       "      <td>89.372820</td>\n",
       "    </tr>\n",
       "    <tr>\n",
       "      <th>3</th>\n",
       "      <td>2</td>\n",
       "      <td>16</td>\n",
       "      <td>89.477354</td>\n",
       "    </tr>\n",
       "    <tr>\n",
       "      <th>4</th>\n",
       "      <td>5</td>\n",
       "      <td>8</td>\n",
       "      <td>95.540071</td>\n",
       "    </tr>\n",
       "    <tr>\n",
       "      <th>5</th>\n",
       "      <td>5</td>\n",
       "      <td>16</td>\n",
       "      <td>94.912893</td>\n",
       "    </tr>\n",
       "    <tr>\n",
       "      <th>6</th>\n",
       "      <td>10</td>\n",
       "      <td>8</td>\n",
       "      <td>95.052266</td>\n",
       "    </tr>\n",
       "    <tr>\n",
       "      <th>7</th>\n",
       "      <td>10</td>\n",
       "      <td>16</td>\n",
       "      <td>97.770035</td>\n",
       "    </tr>\n",
       "  </tbody>\n",
       "</table>\n",
       "</div>"
      ],
      "text/plain": [
       "   epochs  batch_size   accuracy\n",
       "0       1           8  82.543552\n",
       "1       1          16  79.547036\n",
       "2       2           8  89.372820\n",
       "3       2          16  89.477354\n",
       "4       5           8  95.540071\n",
       "5       5          16  94.912893\n",
       "6      10           8  95.052266\n",
       "7      10          16  97.770035"
      ]
     },
     "execution_count": 13,
     "metadata": {},
     "output_type": "execute_result"
    }
   ],
   "source": [
    "param_label = 'epochs'\n",
    "param_list = [1,2,5,10] # [5, 10, 15, 20]\n",
    "\n",
    "param2_label = 'batch_size'\n",
    "param2_list = [8, 16] # [8, 16, 32] am using this batch sizes for now until we fix the accuracy issue, proper batch sizes to be use [8, 16, 32, 64, 128]\n",
    "\n",
    "accuracy_table = {param_label: [], param2_label: [], 'accuracy': []}\n",
    "tic = time.time()\n",
    "for param in tqdm.tqdm_notebook(param_list):\n",
    "    for param2 in tqdm_notebook(param2_list):\n",
    "        \n",
    "        # generate train and validation data\n",
    "        train_generator,val_generator, _ = get_data_generator(train_dataset_path,validation_dataset_path,test_dataset_path, targetsize_constant, classmode_constant, param2)\n",
    "        # train, predict and evaluate model\n",
    "        accuracy, _ = train_evaluate_the_model(train_generator, val_generator, optimizer_initial, param,dropout_value_initial, efnB7_basemodel)\n",
    "        \n",
    "        # collect results\n",
    "        accuracy_table[param_label].append(param)\n",
    "        accuracy_table[param2_label].append(param2)\n",
    "        accuracy_table['accuracy'].append(accuracy)\n",
    "        \n",
    "accuracy_table = pd.DataFrame(accuracy_table) # convert the table to a dataframe\n",
    "toc = time.time()\n",
    "print(\"Minutes taken = \" + str((toc-tic)/60.0))\n",
    "accuracy_table # display the resullts"
   ]
  },
  {
   "cell_type": "code",
   "execution_count": null,
   "metadata": {
    "id": "f0LAh46BxUAA",
    "outputId": "a08adea9-1f96-4e8b-ab99-38a49fb38991"
   },
   "outputs": [
    {
     "data": {
      "text/plain": [
       "<matplotlib.legend.Legend at 0x2185e7831f0>"
      ]
     },
     "execution_count": 15,
     "metadata": {},
     "output_type": "execute_result"
    },
    {
     "data": {
      "image/png": "[encoded data removed]",
      "text/plain": [
       "<Figure size 720x576 with 1 Axes>"
      ]
     },
     "metadata": {
      "needs_background": "light"
     },
     "output_type": "display_data"
    }
   ],
   "source": [
    "from pylab import rcParams\n",
    "\n",
    "# Plot performance versus params\n",
    "rcParams['figure.figsize'] = 10, 8 # width 10, height 8\n",
    "temp = accuracy_table[accuracy_table[param2_label]==param2_list[0]]\n",
    "ax = temp.plot(x=param_label, y='accuracy', style='bs-', grid=True)\n",
    "legend_list = [param2_label + '_' + str(param2_list[0])]\n",
    "\n",
    "color_list = ['r', 'g', 'k', '0.75']\n",
    "for i in range(1,len(param2_list)):\n",
    "    temp = accuracy_table[accuracy_table[param2_label]==param2_list[i]]\n",
    "    ax = temp.plot(x=param_label, y='accuracy', color=color_list[i%len(color_list)], marker='s', grid=True, ax=ax)\n",
    "    legend_list.append(param2_label + '_' + str(param2_list[i]))\n",
    "\n",
    "ax.set_xlabel(param_label)\n",
    "ax.set_ylabel(\"accuracy\")\n",
    "plt.rcParams.update({'font.size': 14})\n",
    "plt.legend(legend_list, loc='center left', bbox_to_anchor=(1.0, 0.5)) # positions legend outside figure\n",
    "# ax.set_xlim([10, 50])\n",
    "# ax.set_ylim([0, 5])"
   ]
  },
  {
   "cell_type": "code",
   "execution_count": null,
   "metadata": {
    "id": "Qlkdu0JQxUAA",
    "outputId": "bc986a0f-fd17-493a-b806-aa4771d3408b"
   },
   "outputs": [
    {
     "name": "stdout",
     "output_type": "stream",
     "text": [
      "max Accuracy = 97.770\n",
      "optimum epochs = 10\n",
      "optimum batch_size = 16\n"
     ]
    }
   ],
   "source": [
    "# Get optimum value for param and param2\n",
    "temp = accuracy_table[accuracy_table['accuracy'] == accuracy_table['accuracy'].max()]\n",
    "epochs_opt = temp[param_label].values[0]\n",
    "batch_size_opt = temp[param2_label].values[0]\n",
    "print(\"max Accuracy = %0.3f\" % accuracy_table['accuracy'].max())\n",
    "print(\"optimum \" + param_label + \" = \" + str(epochs_opt))\n",
    "print(\"optimum \" + param2_label + \" = \" + str(batch_size_opt))"
   ]
  },
  {
   "cell_type": "code",
   "execution_count": null,
   "metadata": {
    "id": "YqTACpQjxUAA"
   },
   "outputs": [],
   "source": [
    "######\n",
    "dropout_opt = 0.6\n",
    "batch_size_opt = 16\n",
    "epochs_opt = 10\n",
    "optimizer_opt = 'Adagrad'\n",
    "#####"
   ]
  },
  {
   "cell_type": "markdown",
   "metadata": {
    "id": "f5-aHolTxUAB"
   },
   "source": [
    "# **Collecting all optimum tunned parameters**"
   ]
  },
  {
   "cell_type": "code",
   "execution_count": null,
   "metadata": {
    "id": "7MgPyY-2xUAB",
    "outputId": "2591b7ab-c500-42ef-b95a-a7e1bf41bfa3"
   },
   "outputs": [
    {
     "data": {
      "text/html": [
       "<div>\n",
       "<style scoped>\n",
       "    .dataframe tbody tr th:only-of-type {\n",
       "        vertical-align: middle;\n",
       "    }\n",
       "\n",
       "    .dataframe tbody tr th {\n",
       "        vertical-align: top;\n",
       "    }\n",
       "\n",
       "    .dataframe thead th {\n",
       "        text-align: right;\n",
       "    }\n",
       "</style>\n",
       "<table border=\"1\" class=\"dataframe\">\n",
       "  <thead>\n",
       "    <tr style=\"text-align: right;\">\n",
       "      <th></th>\n",
       "      <th>param</th>\n",
       "      <th>original</th>\n",
       "      <th>after_tuning</th>\n",
       "    </tr>\n",
       "  </thead>\n",
       "  <tbody>\n",
       "    <tr>\n",
       "      <th>0</th>\n",
       "      <td>optimizer</td>\n",
       "      <td>Adam</td>\n",
       "      <td>Adagrad</td>\n",
       "    </tr>\n",
       "    <tr>\n",
       "      <th>1</th>\n",
       "      <td>epochs</td>\n",
       "      <td>4</td>\n",
       "      <td>10</td>\n",
       "    </tr>\n",
       "    <tr>\n",
       "      <th>2</th>\n",
       "      <td>batch_size</td>\n",
       "      <td>8</td>\n",
       "      <td>16</td>\n",
       "    </tr>\n",
       "    <tr>\n",
       "      <th>3</th>\n",
       "      <td>dropout_prob</td>\n",
       "      <td>0.5</td>\n",
       "      <td>0.6</td>\n",
       "    </tr>\n",
       "  </tbody>\n",
       "</table>\n",
       "</div>"
      ],
      "text/plain": [
       "          param original after_tuning\n",
       "0     optimizer     Adam      Adagrad\n",
       "1        epochs        4           10\n",
       "2    batch_size        8           16\n",
       "3  dropout_prob      0.5          0.6"
      ]
     },
     "execution_count": 12,
     "metadata": {},
     "output_type": "execute_result"
    }
   ],
   "source": [
    "d = {'param': ['optimizer', 'epochs', 'batch_size','dropout_prob'],\n",
    "     'original': [optimizer_initial, epochs_initial, batchsize_initial,dropout_value_initial],\n",
    "     'after_tuning': [optimizer_opt, epochs_opt, batch_size_opt,dropout_opt]}\n",
    "tuned_params = pd.DataFrame(d)\n",
    "tuned_params"
   ]
  },
  {
   "cell_type": "markdown",
   "metadata": {
    "id": "PBqxd5P9xUAB"
   },
   "source": [
    "# **Creating the final model with optimum parameters**"
   ]
  },
  {
   "cell_type": "code",
   "execution_count": null,
   "metadata": {
    "id": "Wb-i_CauxUAB",
    "outputId": "fa3516f8-1104-4288-eca1-24298caf85fe"
   },
   "outputs": [
    {
     "name": "stdout",
     "output_type": "stream",
     "text": [
      "Found 2870 images belonging to 4 classes.\n",
      "Found 2870 images belonging to 4 classes.\n",
      "Found 394 images belonging to 4 classes.\n"
     ]
    },
    {
     "name": "stderr",
     "output_type": "stream",
     "text": [
      "C:\\Users\\Student\\anaconda_3\\lib\\site-packages\\tensorflow\\python\\keras\\engine\\training.py:1940: UserWarning: `Model.fit_generator` is deprecated and will be removed in a future version. Please use `Model.fit`, which supports generators.\n",
      "  warnings.warn('`Model.fit_generator` is deprecated and '\n"
     ]
    },
    {
     "name": "stdout",
     "output_type": "stream",
     "text": [
      "Epoch 1/10\n",
      "179/179 [==============================] - 1324s 7s/step - loss: 0.8610 - accuracy: 0.6405 - val_loss: 0.4861 - val_accuracy: 0.8010\n",
      "Epoch 2/10\n",
      "179/179 [==============================] - 1328s 7s/step - loss: 0.5183 - accuracy: 0.8024 - val_loss: 0.3342 - val_accuracy: 0.8746\n",
      "Epoch 3/10\n",
      "179/179 [==============================] - 1337s 7s/step - loss: 0.3949 - accuracy: 0.8542 - val_loss: 0.2442 - val_accuracy: 0.9038\n",
      "Epoch 4/10\n",
      "179/179 [==============================] - 1335s 7s/step - loss: 0.3253 - accuracy: 0.8781 - val_loss: 0.1651 - val_accuracy: 0.9481\n",
      "Epoch 5/10\n",
      "179/179 [==============================] - 1339s 8s/step - loss: 0.2588 - accuracy: 0.9036 - val_loss: 0.1493 - val_accuracy: 0.9495\n",
      "Epoch 6/10\n",
      "179/179 [==============================] - 1347s 8s/step - loss: 0.2343 - accuracy: 0.9135 - val_loss: 0.1214 - val_accuracy: 0.9690\n",
      "Epoch 7/10\n",
      "179/179 [==============================] - 1345s 8s/step - loss: 0.1878 - accuracy: 0.9310 - val_loss: 0.1240 - val_accuracy: 0.9547\n",
      "Epoch 8/10\n",
      "179/179 [==============================] - 1344s 8s/step - loss: 0.1602 - accuracy: 0.9418 - val_loss: 0.0851 - val_accuracy: 0.9697\n",
      "Epoch 9/10\n",
      "179/179 [==============================] - 1351s 8s/step - loss: 0.1322 - accuracy: 0.9509 - val_loss: 0.0596 - val_accuracy: 0.9843\n",
      "Epoch 10/10\n",
      "179/179 [==============================] - 1356s 8s/step - loss: 0.1188 - accuracy: 0.9604 - val_loss: 0.0622 - val_accuracy: 0.9819\n",
      "180/180 [==============================] - 661s 4s/step - loss: 0.0622 - accuracy: 0.9819\n"
     ]
    }
   ],
   "source": [
    "# get train and validation data generator\n",
    "train_generator_opt,val_generator_opt,test_generator_opt = get_data_generator(train_dataset_path,validation_dataset_path,test_dataset_path, targetsize_constant, classmode_constant, batch_size_opt)\n",
    "\n",
    "# train and evaluate the model\n",
    "accuracy, New_model = train_evaluate_the_model(train_generator_opt, val_generator_opt, optimizer_opt, epochs_opt,dropout_opt , efnB7_basemodel)\n"
   ]
  },
  {
   "cell_type": "code",
   "execution_count": null,
   "metadata": {
    "id": "BDAbnUyIxUAB",
    "outputId": "140885f4-753b-43c3-8fc0-24556fb6b7ff"
   },
   "outputs": [
    {
     "data": {
      "text/plain": [
       "98.18815588951111"
      ]
     },
     "execution_count": 15,
     "metadata": {},
     "output_type": "execute_result"
    }
   ],
   "source": [
    "accuracy"
   ]
  },
  {
   "cell_type": "markdown",
   "metadata": {
    "id": "ZrH5ed3XxUAB"
   },
   "source": [
    "# **Save the model**"
   ]
  },
  {
   "cell_type": "code",
   "execution_count": null,
   "metadata": {
    "id": "-8ddcOqPxUAB",
    "outputId": "bc910bb8-f342-4596-e68e-8b318a5facee"
   },
   "outputs": [
    {
     "name": "stderr",
     "output_type": "stream",
     "text": [
      "C:\\Users\\Student\\anaconda_3\\lib\\site-packages\\tensorflow\\python\\keras\\utils\\generic_utils.py:494: CustomMaskWarning: Custom mask layers require a config and must override get_config. When loading, the custom mask layer must be passed to the custom_objects argument.\n",
      "  warnings.warn('Custom mask layers require a config and must override '\n"
     ]
    }
   ],
   "source": [
    "New_model.save('brain_tumor_classification_efnB7_test10091335.hdf5') #28060904 - dd/mm/hours/minutes"
   ]
  },
  {
   "cell_type": "markdown",
   "metadata": {
    "id": "YPi3rWtexUAC"
   },
   "source": [
    "# ---------------------------------------- END OF NOTEBOOK -----------------------------------\n"
   ]
  },
  {
   "cell_type": "code",
   "execution_count": null,
   "metadata": {
    "id": "D9IWjqAzxUAC"
   },
   "outputs": [],
   "source": []
  }
 ],
 "metadata": {
  "colab": {
   "collapsed_sections": [],
   "name": "FF_EfficientNet Model - Brain Tumor Classification-Final + Model Creation and Fine Tunning  (2).ipynb",
   "provenance": []
  },
  "kernelspec": {
   "display_name": "Python 3",
   "language": "python",
   "name": "python3"
  },
  "language_info": {
   "codemirror_mode": {
    "name": "ipython",
    "version": 3
   },
   "file_extension": ".py",
   "mimetype": "text/x-python",
   "name": "python",
   "nbconvert_exporter": "python",
   "pygments_lexer": "ipython3",
   "version": "3.8.5"
  }
 },
 "nbformat": 4,
 "nbformat_minor": 1
}
